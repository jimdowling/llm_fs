{
 "cells": [
  {
   "cell_type": "code",
   "execution_count": 1,
   "id": "92ee2487",
   "metadata": {},
   "outputs": [
    {
     "name": "stdout",
     "output_type": "stream",
     "text": [
      "2023-12-18 17:25:49,962 INFO: Note: NumExpr detected 16 cores but \"NUMEXPR_MAX_THREADS\" not set, so enforcing safe limit of 8.\n",
      "2023-12-18 17:25:49,963 INFO: NumExpr defaulting to 8 threads.\n",
      "Connected. Call `.close()` to terminate connection gracefully.\n",
      "\n",
      "Logged in to project, explore it here https://34.147.72.120/p/120\n",
      "Connected. Call `.close()` to terminate connection gracefully.\n"
     ]
    }
   ],
   "source": [
    "import hopsworks\n",
    "\n",
    "proj = hopsworks.login()\n",
    "fs = proj.get_feature_store()"
   ]
  },
  {
   "cell_type": "code",
   "execution_count": 2,
   "id": "140ff852",
   "metadata": {},
   "outputs": [
    {
     "data": {
      "text/html": [
       "<div>\n",
       "<style scoped>\n",
       "    .dataframe tbody tr th:only-of-type {\n",
       "        vertical-align: middle;\n",
       "    }\n",
       "\n",
       "    .dataframe tbody tr th {\n",
       "        vertical-align: top;\n",
       "    }\n",
       "\n",
       "    .dataframe thead th {\n",
       "        text-align: right;\n",
       "    }\n",
       "</style>\n",
       "<table border=\"1\" class=\"dataframe\">\n",
       "  <thead>\n",
       "    <tr style=\"text-align: right;\">\n",
       "      <th></th>\n",
       "      <th>order_id</th>\n",
       "      <th>order_item_id</th>\n",
       "      <th>product_id</th>\n",
       "      <th>seller_id</th>\n",
       "      <th>shipping_limit_date</th>\n",
       "      <th>price</th>\n",
       "      <th>freight_value</th>\n",
       "    </tr>\n",
       "  </thead>\n",
       "  <tbody>\n",
       "    <tr>\n",
       "      <th>0</th>\n",
       "      <td>00010242fe8c5a6d1ba2dd792cb16214</td>\n",
       "      <td>1</td>\n",
       "      <td>4244733e06e7ecb4970a6e2683c13e61</td>\n",
       "      <td>48436dade18ac8b2bce089ec2a041202</td>\n",
       "      <td>2017-09-19 09:45:35</td>\n",
       "      <td>58.90</td>\n",
       "      <td>13.29</td>\n",
       "    </tr>\n",
       "    <tr>\n",
       "      <th>1</th>\n",
       "      <td>00018f77f2f0320c557190d7a144bdd3</td>\n",
       "      <td>1</td>\n",
       "      <td>e5f2d52b802189ee658865ca93d83a8f</td>\n",
       "      <td>dd7ddc04e1b6c2c614352b383efe2d36</td>\n",
       "      <td>2017-05-03 11:05:13</td>\n",
       "      <td>239.90</td>\n",
       "      <td>19.93</td>\n",
       "    </tr>\n",
       "    <tr>\n",
       "      <th>2</th>\n",
       "      <td>000229ec398224ef6ca0657da4fc703e</td>\n",
       "      <td>1</td>\n",
       "      <td>c777355d18b72b67abbeef9df44fd0fd</td>\n",
       "      <td>5b51032eddd242adc84c38acab88f23d</td>\n",
       "      <td>2018-01-18 14:48:30</td>\n",
       "      <td>199.00</td>\n",
       "      <td>17.87</td>\n",
       "    </tr>\n",
       "    <tr>\n",
       "      <th>3</th>\n",
       "      <td>00024acbcdf0a6daa1e931b038114c75</td>\n",
       "      <td>1</td>\n",
       "      <td>7634da152a4610f1595efa32f14722fc</td>\n",
       "      <td>9d7a1d34a5052409006425275ba1c2b4</td>\n",
       "      <td>2018-08-15 10:10:18</td>\n",
       "      <td>12.99</td>\n",
       "      <td>12.79</td>\n",
       "    </tr>\n",
       "    <tr>\n",
       "      <th>4</th>\n",
       "      <td>00042b26cf59d7ce69dfabb4e55b4fd9</td>\n",
       "      <td>1</td>\n",
       "      <td>ac6c3623068f30de03045865e4e10089</td>\n",
       "      <td>df560393f3a51e74553ab94004ba5c87</td>\n",
       "      <td>2017-02-13 13:57:51</td>\n",
       "      <td>199.90</td>\n",
       "      <td>18.14</td>\n",
       "    </tr>\n",
       "    <tr>\n",
       "      <th>...</th>\n",
       "      <td>...</td>\n",
       "      <td>...</td>\n",
       "      <td>...</td>\n",
       "      <td>...</td>\n",
       "      <td>...</td>\n",
       "      <td>...</td>\n",
       "      <td>...</td>\n",
       "    </tr>\n",
       "    <tr>\n",
       "      <th>112645</th>\n",
       "      <td>fffc94f6ce00a00581880bf54a75a037</td>\n",
       "      <td>1</td>\n",
       "      <td>4aa6014eceb682077f9dc4bffebc05b0</td>\n",
       "      <td>b8bc237ba3788b23da09c0f1f3a3288c</td>\n",
       "      <td>2018-05-02 04:11:01</td>\n",
       "      <td>299.99</td>\n",
       "      <td>43.41</td>\n",
       "    </tr>\n",
       "    <tr>\n",
       "      <th>112646</th>\n",
       "      <td>fffcd46ef2263f404302a634eb57f7eb</td>\n",
       "      <td>1</td>\n",
       "      <td>32e07fd915822b0765e448c4dd74c828</td>\n",
       "      <td>f3c38ab652836d21de61fb8314b69182</td>\n",
       "      <td>2018-07-20 04:31:48</td>\n",
       "      <td>350.00</td>\n",
       "      <td>36.53</td>\n",
       "    </tr>\n",
       "    <tr>\n",
       "      <th>112647</th>\n",
       "      <td>fffce4705a9662cd70adb13d4a31832d</td>\n",
       "      <td>1</td>\n",
       "      <td>72a30483855e2eafc67aee5dc2560482</td>\n",
       "      <td>c3cfdc648177fdbbbb35635a37472c53</td>\n",
       "      <td>2017-10-30 17:14:25</td>\n",
       "      <td>99.90</td>\n",
       "      <td>16.95</td>\n",
       "    </tr>\n",
       "    <tr>\n",
       "      <th>112648</th>\n",
       "      <td>fffe18544ffabc95dfada21779c9644f</td>\n",
       "      <td>1</td>\n",
       "      <td>9c422a519119dcad7575db5af1ba540e</td>\n",
       "      <td>2b3e4a2a3ea8e01938cabda2a3e5cc79</td>\n",
       "      <td>2017-08-21 00:04:32</td>\n",
       "      <td>55.99</td>\n",
       "      <td>8.72</td>\n",
       "    </tr>\n",
       "    <tr>\n",
       "      <th>112649</th>\n",
       "      <td>fffe41c64501cc87c801fd61db3f6244</td>\n",
       "      <td>1</td>\n",
       "      <td>350688d9dc1e75ff97be326363655e01</td>\n",
       "      <td>f7ccf836d21b2fb1de37564105216cc1</td>\n",
       "      <td>2018-06-12 17:10:13</td>\n",
       "      <td>43.00</td>\n",
       "      <td>12.79</td>\n",
       "    </tr>\n",
       "  </tbody>\n",
       "</table>\n",
       "<p>112650 rows × 7 columns</p>\n",
       "</div>"
      ],
      "text/plain": [
       "                                order_id  order_item_id  \\\n",
       "0       00010242fe8c5a6d1ba2dd792cb16214              1   \n",
       "1       00018f77f2f0320c557190d7a144bdd3              1   \n",
       "2       000229ec398224ef6ca0657da4fc703e              1   \n",
       "3       00024acbcdf0a6daa1e931b038114c75              1   \n",
       "4       00042b26cf59d7ce69dfabb4e55b4fd9              1   \n",
       "...                                  ...            ...   \n",
       "112645  fffc94f6ce00a00581880bf54a75a037              1   \n",
       "112646  fffcd46ef2263f404302a634eb57f7eb              1   \n",
       "112647  fffce4705a9662cd70adb13d4a31832d              1   \n",
       "112648  fffe18544ffabc95dfada21779c9644f              1   \n",
       "112649  fffe41c64501cc87c801fd61db3f6244              1   \n",
       "\n",
       "                              product_id                         seller_id  \\\n",
       "0       4244733e06e7ecb4970a6e2683c13e61  48436dade18ac8b2bce089ec2a041202   \n",
       "1       e5f2d52b802189ee658865ca93d83a8f  dd7ddc04e1b6c2c614352b383efe2d36   \n",
       "2       c777355d18b72b67abbeef9df44fd0fd  5b51032eddd242adc84c38acab88f23d   \n",
       "3       7634da152a4610f1595efa32f14722fc  9d7a1d34a5052409006425275ba1c2b4   \n",
       "4       ac6c3623068f30de03045865e4e10089  df560393f3a51e74553ab94004ba5c87   \n",
       "...                                  ...                               ...   \n",
       "112645  4aa6014eceb682077f9dc4bffebc05b0  b8bc237ba3788b23da09c0f1f3a3288c   \n",
       "112646  32e07fd915822b0765e448c4dd74c828  f3c38ab652836d21de61fb8314b69182   \n",
       "112647  72a30483855e2eafc67aee5dc2560482  c3cfdc648177fdbbbb35635a37472c53   \n",
       "112648  9c422a519119dcad7575db5af1ba540e  2b3e4a2a3ea8e01938cabda2a3e5cc79   \n",
       "112649  350688d9dc1e75ff97be326363655e01  f7ccf836d21b2fb1de37564105216cc1   \n",
       "\n",
       "        shipping_limit_date   price  freight_value  \n",
       "0       2017-09-19 09:45:35   58.90          13.29  \n",
       "1       2017-05-03 11:05:13  239.90          19.93  \n",
       "2       2018-01-18 14:48:30  199.00          17.87  \n",
       "3       2018-08-15 10:10:18   12.99          12.79  \n",
       "4       2017-02-13 13:57:51  199.90          18.14  \n",
       "...                     ...     ...            ...  \n",
       "112645  2018-05-02 04:11:01  299.99          43.41  \n",
       "112646  2018-07-20 04:31:48  350.00          36.53  \n",
       "112647  2017-10-30 17:14:25   99.90          16.95  \n",
       "112648  2017-08-21 00:04:32   55.99           8.72  \n",
       "112649  2018-06-12 17:10:13   43.00          12.79  \n",
       "\n",
       "[112650 rows x 7 columns]"
      ]
     },
     "execution_count": 2,
     "metadata": {},
     "output_type": "execute_result"
    }
   ],
   "source": [
    "import pandas as pd\n",
    "\n",
    "df = pd.read_csv(\"data/ecommerce/order_item.csv\")\n",
    "df"
   ]
  },
  {
   "cell_type": "code",
   "execution_count": 3,
   "id": "58285afa",
   "metadata": {},
   "outputs": [
    {
     "data": {
      "text/html": [
       "<div>\n",
       "<style scoped>\n",
       "    .dataframe tbody tr th:only-of-type {\n",
       "        vertical-align: middle;\n",
       "    }\n",
       "\n",
       "    .dataframe tbody tr th {\n",
       "        vertical-align: top;\n",
       "    }\n",
       "\n",
       "    .dataframe thead th {\n",
       "        text-align: right;\n",
       "    }\n",
       "</style>\n",
       "<table border=\"1\" class=\"dataframe\">\n",
       "  <thead>\n",
       "    <tr style=\"text-align: right;\">\n",
       "      <th></th>\n",
       "      <th>product_id</th>\n",
       "      <th>product_category_name</th>\n",
       "      <th>product_name_len</th>\n",
       "      <th>product_description_len</th>\n",
       "      <th>product_photos_qty</th>\n",
       "      <th>product_weight_g</th>\n",
       "      <th>product_length_cm</th>\n",
       "      <th>product_height_cm</th>\n",
       "      <th>product_width_cm</th>\n",
       "    </tr>\n",
       "  </thead>\n",
       "  <tbody>\n",
       "    <tr>\n",
       "      <th>0</th>\n",
       "      <td>1e9e8ef04dbcff4541ed26657ea517e5</td>\n",
       "      <td>perfumaria</td>\n",
       "      <td>40.0</td>\n",
       "      <td>287.0</td>\n",
       "      <td>1.0</td>\n",
       "      <td>225.0</td>\n",
       "      <td>16.0</td>\n",
       "      <td>10.0</td>\n",
       "      <td>14.0</td>\n",
       "    </tr>\n",
       "    <tr>\n",
       "      <th>1</th>\n",
       "      <td>3aa071139cb16b67ca9e5dea641aaa2f</td>\n",
       "      <td>artes</td>\n",
       "      <td>44.0</td>\n",
       "      <td>276.0</td>\n",
       "      <td>1.0</td>\n",
       "      <td>1000.0</td>\n",
       "      <td>30.0</td>\n",
       "      <td>18.0</td>\n",
       "      <td>20.0</td>\n",
       "    </tr>\n",
       "    <tr>\n",
       "      <th>2</th>\n",
       "      <td>96bd76ec8810374ed1b65e291975717f</td>\n",
       "      <td>esporte_lazer</td>\n",
       "      <td>46.0</td>\n",
       "      <td>250.0</td>\n",
       "      <td>1.0</td>\n",
       "      <td>154.0</td>\n",
       "      <td>18.0</td>\n",
       "      <td>9.0</td>\n",
       "      <td>15.0</td>\n",
       "    </tr>\n",
       "    <tr>\n",
       "      <th>3</th>\n",
       "      <td>cef67bcfe19066a932b7673e239eb23d</td>\n",
       "      <td>bebes</td>\n",
       "      <td>27.0</td>\n",
       "      <td>261.0</td>\n",
       "      <td>1.0</td>\n",
       "      <td>371.0</td>\n",
       "      <td>26.0</td>\n",
       "      <td>4.0</td>\n",
       "      <td>26.0</td>\n",
       "    </tr>\n",
       "    <tr>\n",
       "      <th>4</th>\n",
       "      <td>9dc1a7de274444849c219cff195d0b71</td>\n",
       "      <td>utilidades_domesticas</td>\n",
       "      <td>37.0</td>\n",
       "      <td>402.0</td>\n",
       "      <td>4.0</td>\n",
       "      <td>625.0</td>\n",
       "      <td>20.0</td>\n",
       "      <td>17.0</td>\n",
       "      <td>13.0</td>\n",
       "    </tr>\n",
       "    <tr>\n",
       "      <th>...</th>\n",
       "      <td>...</td>\n",
       "      <td>...</td>\n",
       "      <td>...</td>\n",
       "      <td>...</td>\n",
       "      <td>...</td>\n",
       "      <td>...</td>\n",
       "      <td>...</td>\n",
       "      <td>...</td>\n",
       "      <td>...</td>\n",
       "    </tr>\n",
       "    <tr>\n",
       "      <th>32335</th>\n",
       "      <td>a0b7d5a992ccda646f2d34e418fff5a0</td>\n",
       "      <td>moveis_decoracao</td>\n",
       "      <td>45.0</td>\n",
       "      <td>67.0</td>\n",
       "      <td>2.0</td>\n",
       "      <td>12300.0</td>\n",
       "      <td>40.0</td>\n",
       "      <td>40.0</td>\n",
       "      <td>40.0</td>\n",
       "    </tr>\n",
       "    <tr>\n",
       "      <th>32336</th>\n",
       "      <td>bf4538d88321d0fd4412a93c974510e6</td>\n",
       "      <td>construcao_ferramentas_iluminacao</td>\n",
       "      <td>41.0</td>\n",
       "      <td>971.0</td>\n",
       "      <td>1.0</td>\n",
       "      <td>1700.0</td>\n",
       "      <td>16.0</td>\n",
       "      <td>19.0</td>\n",
       "      <td>16.0</td>\n",
       "    </tr>\n",
       "    <tr>\n",
       "      <th>32337</th>\n",
       "      <td>9a7c6041fa9592d9d9ef6cfe62a71f8c</td>\n",
       "      <td>cama_mesa_banho</td>\n",
       "      <td>50.0</td>\n",
       "      <td>799.0</td>\n",
       "      <td>1.0</td>\n",
       "      <td>1400.0</td>\n",
       "      <td>27.0</td>\n",
       "      <td>7.0</td>\n",
       "      <td>27.0</td>\n",
       "    </tr>\n",
       "    <tr>\n",
       "      <th>32338</th>\n",
       "      <td>83808703fc0706a22e264b9d75f04a2e</td>\n",
       "      <td>informatica_acessorios</td>\n",
       "      <td>60.0</td>\n",
       "      <td>156.0</td>\n",
       "      <td>2.0</td>\n",
       "      <td>700.0</td>\n",
       "      <td>31.0</td>\n",
       "      <td>13.0</td>\n",
       "      <td>20.0</td>\n",
       "    </tr>\n",
       "    <tr>\n",
       "      <th>32339</th>\n",
       "      <td>106392145fca363410d287a815be6de4</td>\n",
       "      <td>cama_mesa_banho</td>\n",
       "      <td>58.0</td>\n",
       "      <td>309.0</td>\n",
       "      <td>1.0</td>\n",
       "      <td>2083.0</td>\n",
       "      <td>12.0</td>\n",
       "      <td>2.0</td>\n",
       "      <td>7.0</td>\n",
       "    </tr>\n",
       "  </tbody>\n",
       "</table>\n",
       "<p>32340 rows × 9 columns</p>\n",
       "</div>"
      ],
      "text/plain": [
       "                             product_id              product_category_name  \\\n",
       "0      1e9e8ef04dbcff4541ed26657ea517e5                         perfumaria   \n",
       "1      3aa071139cb16b67ca9e5dea641aaa2f                              artes   \n",
       "2      96bd76ec8810374ed1b65e291975717f                      esporte_lazer   \n",
       "3      cef67bcfe19066a932b7673e239eb23d                              bebes   \n",
       "4      9dc1a7de274444849c219cff195d0b71              utilidades_domesticas   \n",
       "...                                 ...                                ...   \n",
       "32335  a0b7d5a992ccda646f2d34e418fff5a0                   moveis_decoracao   \n",
       "32336  bf4538d88321d0fd4412a93c974510e6  construcao_ferramentas_iluminacao   \n",
       "32337  9a7c6041fa9592d9d9ef6cfe62a71f8c                    cama_mesa_banho   \n",
       "32338  83808703fc0706a22e264b9d75f04a2e             informatica_acessorios   \n",
       "32339  106392145fca363410d287a815be6de4                    cama_mesa_banho   \n",
       "\n",
       "       product_name_len  product_description_len  product_photos_qty  \\\n",
       "0                  40.0                    287.0                 1.0   \n",
       "1                  44.0                    276.0                 1.0   \n",
       "2                  46.0                    250.0                 1.0   \n",
       "3                  27.0                    261.0                 1.0   \n",
       "4                  37.0                    402.0                 4.0   \n",
       "...                 ...                      ...                 ...   \n",
       "32335              45.0                     67.0                 2.0   \n",
       "32336              41.0                    971.0                 1.0   \n",
       "32337              50.0                    799.0                 1.0   \n",
       "32338              60.0                    156.0                 2.0   \n",
       "32339              58.0                    309.0                 1.0   \n",
       "\n",
       "       product_weight_g  product_length_cm  product_height_cm  \\\n",
       "0                 225.0               16.0               10.0   \n",
       "1                1000.0               30.0               18.0   \n",
       "2                 154.0               18.0                9.0   \n",
       "3                 371.0               26.0                4.0   \n",
       "4                 625.0               20.0               17.0   \n",
       "...                 ...                ...                ...   \n",
       "32335           12300.0               40.0               40.0   \n",
       "32336            1700.0               16.0               19.0   \n",
       "32337            1400.0               27.0                7.0   \n",
       "32338             700.0               31.0               13.0   \n",
       "32339            2083.0               12.0                2.0   \n",
       "\n",
       "       product_width_cm  \n",
       "0                  14.0  \n",
       "1                  20.0  \n",
       "2                  15.0  \n",
       "3                  26.0  \n",
       "4                  13.0  \n",
       "...                 ...  \n",
       "32335              40.0  \n",
       "32336              16.0  \n",
       "32337              27.0  \n",
       "32338              20.0  \n",
       "32339               7.0  \n",
       "\n",
       "[32340 rows x 9 columns]"
      ]
     },
     "execution_count": 3,
     "metadata": {},
     "output_type": "execute_result"
    }
   ],
   "source": [
    "import pandas as pd\n",
    "\n",
    "prods_df = pd.read_csv(\"data/ecommerce/product.csv\")\n",
    "prods_df"
   ]
  },
  {
   "cell_type": "code",
   "execution_count": null,
   "id": "876f0cd1",
   "metadata": {},
   "outputs": [],
   "source": [
    "from sentence_transformers import SentenceTransformer\n",
    "model = SentenceTransformer('all-MiniLM-L6-v2')"
   ]
  },
  {
   "cell_type": "code",
   "execution_count": null,
   "id": "ca960641",
   "metadata": {},
   "outputs": [],
   "source": [
    "product_ids, products_info = [], []\n",
    "for index, row in df.iterrows():\n",
    "    product_ids.append(row[\"product_id\"])\n",
    "    products_info.append(row.to_string().replace(\"   \", \"\").replace(\"\\n\", \", \"))\n",
    "embeddings = model.encode(products_info)"
   ]
  },
  {
   "cell_type": "code",
   "execution_count": 4,
   "id": "b80d6469",
   "metadata": {},
   "outputs": [
    {
     "name": "stdout",
     "output_type": "stream",
     "text": [
      "Feature Group created successfully, explore it at \n",
      "https://34.147.72.120/p/120/fs/68/fg/18\n"
     ]
    },
    {
     "data": {
      "application/vnd.jupyter.widget-view+json": {
       "model_id": "c5240e9e0a5942e49458ef9b13d0dd64",
       "version_major": 2,
       "version_minor": 0
      },
      "text/plain": [
       "Uploading Dataframe: 0.00% |          | Rows 0/112650 | Elapsed Time: 00:00 | Remaining Time: ?"
      ]
     },
     "metadata": {},
     "output_type": "display_data"
    },
    {
     "name": "stdout",
     "output_type": "stream",
     "text": [
      "Launching job: order_item_fg_1_offline_fg_materialization\n",
      "Job started successfully, you can follow the progress at \n",
      "https://34.147.72.120/p/120/jobs/named/order_item_fg_1_offline_fg_materialization/executions\n"
     ]
    },
    {
     "data": {
      "text/plain": [
       "(<hsfs.core.job.Job at 0x7f89de85b310>, None)"
      ]
     },
     "execution_count": 4,
     "metadata": {},
     "output_type": "execute_result"
    }
   ],
   "source": [
    "order_item_fg = fs.get_or_create_feature_group(\n",
    "    name=\"order_item_fg\",\n",
    "    primary_key=[\"order_id\", \"order_item_id\"],\n",
    "    version=1,\n",
    "    description=\"Order items\",\n",
    "    online_enabled=True\n",
    ")\n",
    "\n",
    "order_item_fg.insert(df)"
   ]
  },
  {
   "cell_type": "code",
   "execution_count": 5,
   "id": "1e522406",
   "metadata": {},
   "outputs": [
    {
     "name": "stdout",
     "output_type": "stream",
     "text": [
      "Feature Group created successfully, explore it at \n",
      "https://34.147.72.120/p/120/fs/68/fg/19\n"
     ]
    },
    {
     "data": {
      "application/vnd.jupyter.widget-view+json": {
       "model_id": "d99755f87b0c4a2e8876578061bf6ab6",
       "version_major": 2,
       "version_minor": 0
      },
      "text/plain": [
       "Uploading Dataframe: 0.00% |          | Rows 0/32340 | Elapsed Time: 00:00 | Remaining Time: ?"
      ]
     },
     "metadata": {},
     "output_type": "display_data"
    },
    {
     "name": "stdout",
     "output_type": "stream",
     "text": [
      "Launching job: product_fg_1_offline_fg_materialization\n",
      "Job started successfully, you can follow the progress at \n",
      "https://34.147.72.120/p/120/jobs/named/product_fg_1_offline_fg_materialization/executions\n"
     ]
    },
    {
     "data": {
      "text/plain": [
       "(<hsfs.core.job.Job at 0x7f89df5021d0>, None)"
      ]
     },
     "execution_count": 5,
     "metadata": {},
     "output_type": "execute_result"
    }
   ],
   "source": [
    "product_fg = fs.get_or_create_feature_group(\n",
    "    name=\"product_fg\",\n",
    "    primary_key=[\"product_id\"],\n",
    "    version=1,\n",
    "    description=\"Product details\",\n",
    "    online_enabled=True\n",
    ")\n",
    "\n",
    "product_fg.insert(prods_df)"
   ]
  },
  {
   "cell_type": "markdown",
   "id": "e2604df3",
   "metadata": {},
   "source": [
    "## Create Embeddings for Products"
   ]
  },
  {
   "cell_type": "code",
   "execution_count": 8,
   "id": "28c2e2af",
   "metadata": {},
   "outputs": [
    {
     "name": "stdout",
     "output_type": "stream",
     "text": [
      "Collecting sentence-transformers\n",
      "  Downloading sentence-transformers-2.2.2.tar.gz (85 kB)\n",
      "\u001b[2K     \u001b[90m━━━━━━━━━━━━━━━━━━━━━━━━━━━━━━━━━━━━━━━━\u001b[0m \u001b[32m86.0/86.0 kB\u001b[0m \u001b[31m6.6 MB/s\u001b[0m eta \u001b[36m0:00:00\u001b[0m\n",
      "\u001b[?25h  Preparing metadata (setup.py) ... \u001b[?25ldone\n",
      "\u001b[?25hRequirement already satisfied: transformers<5.0.0,>=4.6.0 in /srv/hops/anaconda/envs/theenv/lib/python3.10/site-packages (from sentence-transformers) (4.34.0)\n",
      "Requirement already satisfied: tqdm in /srv/hops/anaconda/envs/theenv/lib/python3.10/site-packages (from sentence-transformers) (4.64.1)\n",
      "Requirement already satisfied: torch>=1.6.0 in /srv/hops/anaconda/envs/theenv/lib/python3.10/site-packages (from sentence-transformers) (2.1.0)\n",
      "Requirement already satisfied: torchvision in /srv/hops/anaconda/envs/theenv/lib/python3.10/site-packages (from sentence-transformers) (0.16.0)\n",
      "Requirement already satisfied: numpy in /srv/hops/anaconda/envs/theenv/lib/python3.10/site-packages (from sentence-transformers) (1.24.2)\n",
      "Requirement already satisfied: scikit-learn in /srv/hops/anaconda/envs/theenv/lib/python3.10/site-packages (from sentence-transformers) (1.1.1)\n",
      "Requirement already satisfied: scipy in /srv/hops/anaconda/envs/theenv/lib/python3.10/site-packages (from sentence-transformers) (1.11.4)\n",
      "Requirement already satisfied: nltk in /srv/hops/anaconda/envs/theenv/lib/python3.10/site-packages (from sentence-transformers) (3.8.1)\n",
      "Requirement already satisfied: sentencepiece in /srv/hops/anaconda/envs/theenv/lib/python3.10/site-packages (from sentence-transformers) (0.1.99)\n",
      "Requirement already satisfied: huggingface-hub>=0.4.0 in /srv/hops/anaconda/envs/theenv/lib/python3.10/site-packages (from sentence-transformers) (0.17.3)\n",
      "Requirement already satisfied: packaging>=20.9 in /srv/hops/anaconda/envs/theenv/lib/python3.10/site-packages (from huggingface-hub>=0.4.0->sentence-transformers) (23.2)\n",
      "Requirement already satisfied: pyyaml>=5.1 in /srv/hops/anaconda/envs/theenv/lib/python3.10/site-packages (from huggingface-hub>=0.4.0->sentence-transformers) (6.0.1)\n",
      "Requirement already satisfied: filelock in /srv/hops/anaconda/envs/theenv/lib/python3.10/site-packages (from huggingface-hub>=0.4.0->sentence-transformers) (3.13.1)\n",
      "Requirement already satisfied: typing-extensions>=3.7.4.3 in /srv/hops/anaconda/envs/theenv/lib/python3.10/site-packages (from huggingface-hub>=0.4.0->sentence-transformers) (4.9.0)\n",
      "Requirement already satisfied: requests in /srv/hops/anaconda/envs/theenv/lib/python3.10/site-packages (from huggingface-hub>=0.4.0->sentence-transformers) (2.31.0)\n",
      "Requirement already satisfied: fsspec in /srv/hops/anaconda/envs/theenv/lib/python3.10/site-packages (from huggingface-hub>=0.4.0->sentence-transformers) (2023.10.0)\n",
      "Requirement already satisfied: networkx in /srv/hops/anaconda/envs/theenv/lib/python3.10/site-packages (from torch>=1.6.0->sentence-transformers) (3.2.1)\n",
      "Requirement already satisfied: nvidia-cufft-cu12==11.0.2.54 in /srv/hops/anaconda/envs/theenv/lib/python3.10/site-packages (from torch>=1.6.0->sentence-transformers) (11.0.2.54)\n",
      "Requirement already satisfied: jinja2 in /srv/hops/anaconda/envs/theenv/lib/python3.10/site-packages (from torch>=1.6.0->sentence-transformers) (2.11.3)\n",
      "Requirement already satisfied: nvidia-cusparse-cu12==12.1.0.106 in /srv/hops/anaconda/envs/theenv/lib/python3.10/site-packages (from torch>=1.6.0->sentence-transformers) (12.1.0.106)\n",
      "Requirement already satisfied: nvidia-cudnn-cu12==8.9.2.26 in /srv/hops/anaconda/envs/theenv/lib/python3.10/site-packages (from torch>=1.6.0->sentence-transformers) (8.9.2.26)\n",
      "Requirement already satisfied: nvidia-cublas-cu12==12.1.3.1 in /srv/hops/anaconda/envs/theenv/lib/python3.10/site-packages (from torch>=1.6.0->sentence-transformers) (12.1.3.1)\n",
      "Requirement already satisfied: nvidia-curand-cu12==10.3.2.106 in /srv/hops/anaconda/envs/theenv/lib/python3.10/site-packages (from torch>=1.6.0->sentence-transformers) (10.3.2.106)\n",
      "Requirement already satisfied: sympy in /srv/hops/anaconda/envs/theenv/lib/python3.10/site-packages (from torch>=1.6.0->sentence-transformers) (1.12)\n",
      "Requirement already satisfied: nvidia-cuda-nvrtc-cu12==12.1.105 in /srv/hops/anaconda/envs/theenv/lib/python3.10/site-packages (from torch>=1.6.0->sentence-transformers) (12.1.105)\n",
      "Requirement already satisfied: nvidia-cuda-runtime-cu12==12.1.105 in /srv/hops/anaconda/envs/theenv/lib/python3.10/site-packages (from torch>=1.6.0->sentence-transformers) (12.1.105)\n",
      "Requirement already satisfied: nvidia-nccl-cu12==2.18.1 in /srv/hops/anaconda/envs/theenv/lib/python3.10/site-packages (from torch>=1.6.0->sentence-transformers) (2.18.1)\n",
      "Requirement already satisfied: nvidia-nvtx-cu12==12.1.105 in /srv/hops/anaconda/envs/theenv/lib/python3.10/site-packages (from torch>=1.6.0->sentence-transformers) (12.1.105)\n",
      "Requirement already satisfied: triton==2.1.0 in /srv/hops/anaconda/envs/theenv/lib/python3.10/site-packages (from torch>=1.6.0->sentence-transformers) (2.1.0)\n",
      "Requirement already satisfied: nvidia-cusolver-cu12==11.4.5.107 in /srv/hops/anaconda/envs/theenv/lib/python3.10/site-packages (from torch>=1.6.0->sentence-transformers) (11.4.5.107)\n",
      "Requirement already satisfied: nvidia-cuda-cupti-cu12==12.1.105 in /srv/hops/anaconda/envs/theenv/lib/python3.10/site-packages (from torch>=1.6.0->sentence-transformers) (12.1.105)\n",
      "Requirement already satisfied: nvidia-nvjitlink-cu12 in /srv/hops/anaconda/envs/theenv/lib/python3.10/site-packages (from nvidia-cusolver-cu12==11.4.5.107->torch>=1.6.0->sentence-transformers) (12.3.101)\n",
      "Requirement already satisfied: safetensors>=0.3.1 in /srv/hops/anaconda/envs/theenv/lib/python3.10/site-packages (from transformers<5.0.0,>=4.6.0->sentence-transformers) (0.4.1)\n",
      "Requirement already satisfied: regex!=2019.12.17 in /srv/hops/anaconda/envs/theenv/lib/python3.10/site-packages (from transformers<5.0.0,>=4.6.0->sentence-transformers) (2023.10.3)\n",
      "Requirement already satisfied: tokenizers<0.15,>=0.14 in /srv/hops/anaconda/envs/theenv/lib/python3.10/site-packages (from transformers<5.0.0,>=4.6.0->sentence-transformers) (0.14.1)\n",
      "Requirement already satisfied: joblib in /srv/hops/anaconda/envs/theenv/lib/python3.10/site-packages (from nltk->sentence-transformers) (1.2.0)\n",
      "Requirement already satisfied: click in /srv/hops/anaconda/envs/theenv/lib/python3.10/site-packages (from nltk->sentence-transformers) (7.1.2)\n",
      "Requirement already satisfied: threadpoolctl>=2.0.0 in /srv/hops/anaconda/envs/theenv/lib/python3.10/site-packages (from scikit-learn->sentence-transformers) (3.2.0)\n",
      "Requirement already satisfied: pillow!=8.3.*,>=5.3.0 in /srv/hops/anaconda/envs/theenv/lib/python3.10/site-packages (from torchvision->sentence-transformers) (10.1.0)\n",
      "Requirement already satisfied: MarkupSafe>=0.23 in /srv/hops/anaconda/envs/theenv/lib/python3.10/site-packages (from jinja2->torch>=1.6.0->sentence-transformers) (2.0.1)\n",
      "Requirement already satisfied: certifi>=2017.4.17 in /srv/hops/anaconda/envs/theenv/lib/python3.10/site-packages (from requests->huggingface-hub>=0.4.0->sentence-transformers) (2023.11.17)\n",
      "Requirement already satisfied: charset-normalizer<4,>=2 in /srv/hops/anaconda/envs/theenv/lib/python3.10/site-packages (from requests->huggingface-hub>=0.4.0->sentence-transformers) (3.3.2)\n",
      "Requirement already satisfied: idna<4,>=2.5 in /srv/hops/anaconda/envs/theenv/lib/python3.10/site-packages (from requests->huggingface-hub>=0.4.0->sentence-transformers) (2.8)\n",
      "Requirement already satisfied: urllib3<3,>=1.21.1 in /srv/hops/anaconda/envs/theenv/lib/python3.10/site-packages (from requests->huggingface-hub>=0.4.0->sentence-transformers) (1.26.18)\n",
      "Requirement already satisfied: mpmath>=0.19 in /srv/hops/anaconda/envs/theenv/lib/python3.10/site-packages (from sympy->torch>=1.6.0->sentence-transformers) (1.3.0)\n",
      "Building wheels for collected packages: sentence-transformers\n",
      "  Building wheel for sentence-transformers (setup.py) ... \u001b[?25ldone\n",
      "\u001b[?25h  Created wheel for sentence-transformers: filename=sentence_transformers-2.2.2-py3-none-any.whl size=125925 sha256=239745c481b0c7f7a034458bfd32e1b152dffeb61792a089c4d0c02c739e6eec\n",
      "  Stored in directory: /home/yarnapp/.cache/pip/wheels/62/f2/10/1e606fd5f02395388f74e7462910fe851042f97238cbbd902f\n",
      "Successfully built sentence-transformers\n",
      "Installing collected packages: sentence-transformers\n",
      "Successfully installed sentence-transformers-2.2.2\n",
      "\u001b[33mWARNING: Running pip as the 'root' user can result in broken permissions and conflicting behaviour with the system package manager. It is recommended to use a virtual environment instead: https://pip.pypa.io/warnings/venv\u001b[0m\u001b[33m\n",
      "\u001b[0m"
     ]
    }
   ],
   "source": [
    "!pip install sentence-transformers"
   ]
  },
  {
   "cell_type": "markdown",
   "id": "274935b9",
   "metadata": {},
   "source": [
    "### You need your own Hopsworks Cluster for this part"
   ]
  },
  {
   "cell_type": "code",
   "execution_count": 9,
   "id": "8f5829eb",
   "metadata": {},
   "outputs": [
    {
     "name": "stdout",
     "output_type": "stream",
     "text": [
      "2023-12-18 17:40:58,930 INFO: Load pretrained SentenceTransformer: all-MiniLM-L6-v2\n"
     ]
    },
    {
     "data": {
      "application/vnd.jupyter.widget-view+json": {
       "model_id": "3e760c9332d84e9ba728337a11cd9f0d",
       "version_major": 2,
       "version_minor": 0
      },
      "text/plain": [
       "Downloading .gitattributes:   0%|          | 0.00/1.18k [00:00<?, ?B/s]"
      ]
     },
     "metadata": {},
     "output_type": "display_data"
    },
    {
     "data": {
      "application/vnd.jupyter.widget-view+json": {
       "model_id": "1bb2146546124fbbbec90dbd53604920",
       "version_major": 2,
       "version_minor": 0
      },
      "text/plain": [
       "Downloading 1_Pooling/config.json:   0%|          | 0.00/190 [00:00<?, ?B/s]"
      ]
     },
     "metadata": {},
     "output_type": "display_data"
    },
    {
     "data": {
      "application/vnd.jupyter.widget-view+json": {
       "model_id": "ec0a479fe43c497ea72184ac9edd3870",
       "version_major": 2,
       "version_minor": 0
      },
      "text/plain": [
       "Downloading README.md:   0%|          | 0.00/10.6k [00:00<?, ?B/s]"
      ]
     },
     "metadata": {},
     "output_type": "display_data"
    },
    {
     "data": {
      "application/vnd.jupyter.widget-view+json": {
       "model_id": "84ec783cb7b64a38ab241b900e33db1c",
       "version_major": 2,
       "version_minor": 0
      },
      "text/plain": [
       "Downloading config.json:   0%|          | 0.00/612 [00:00<?, ?B/s]"
      ]
     },
     "metadata": {},
     "output_type": "display_data"
    },
    {
     "data": {
      "application/vnd.jupyter.widget-view+json": {
       "model_id": "228ba8b855be4eca8150e742a2d1c33d",
       "version_major": 2,
       "version_minor": 0
      },
      "text/plain": [
       "Downloading (…)ce_transformers.json:   0%|          | 0.00/116 [00:00<?, ?B/s]"
      ]
     },
     "metadata": {},
     "output_type": "display_data"
    },
    {
     "data": {
      "application/vnd.jupyter.widget-view+json": {
       "model_id": "7452dc698b0c4c9ca73f1bada8978828",
       "version_major": 2,
       "version_minor": 0
      },
      "text/plain": [
       "Downloading data_config.json:   0%|          | 0.00/39.3k [00:00<?, ?B/s]"
      ]
     },
     "metadata": {},
     "output_type": "display_data"
    },
    {
     "data": {
      "application/vnd.jupyter.widget-view+json": {
       "model_id": "a4423e3162594f429f308a856c9e30ab",
       "version_major": 2,
       "version_minor": 0
      },
      "text/plain": [
       "Downloading pytorch_model.bin:   0%|          | 0.00/90.9M [00:00<?, ?B/s]"
      ]
     },
     "metadata": {},
     "output_type": "display_data"
    },
    {
     "data": {
      "application/vnd.jupyter.widget-view+json": {
       "model_id": "e88810d776bb4346bd0b922edeb8576b",
       "version_major": 2,
       "version_minor": 0
      },
      "text/plain": [
       "Downloading (…)nce_bert_config.json:   0%|          | 0.00/53.0 [00:00<?, ?B/s]"
      ]
     },
     "metadata": {},
     "output_type": "display_data"
    },
    {
     "data": {
      "application/vnd.jupyter.widget-view+json": {
       "model_id": "e2d4b8d5ba924457ad22a7a18e86fbf9",
       "version_major": 2,
       "version_minor": 0
      },
      "text/plain": [
       "Downloading (…)cial_tokens_map.json:   0%|          | 0.00/112 [00:00<?, ?B/s]"
      ]
     },
     "metadata": {},
     "output_type": "display_data"
    },
    {
     "data": {
      "application/vnd.jupyter.widget-view+json": {
       "model_id": "2b8a867462c5477f92ae9e61f6d5b786",
       "version_major": 2,
       "version_minor": 0
      },
      "text/plain": [
       "Downloading tokenizer.json:   0%|          | 0.00/466k [00:00<?, ?B/s]"
      ]
     },
     "metadata": {},
     "output_type": "display_data"
    },
    {
     "data": {
      "application/vnd.jupyter.widget-view+json": {
       "model_id": "5bc3bddb02344debbf9bcc9e8c78964d",
       "version_major": 2,
       "version_minor": 0
      },
      "text/plain": [
       "Downloading tokenizer_config.json:   0%|          | 0.00/350 [00:00<?, ?B/s]"
      ]
     },
     "metadata": {},
     "output_type": "display_data"
    },
    {
     "data": {
      "application/vnd.jupyter.widget-view+json": {
       "model_id": "e8664cd2c08e43c3b32ae2edb36a108f",
       "version_major": 2,
       "version_minor": 0
      },
      "text/plain": [
       "Downloading train_script.py:   0%|          | 0.00/13.2k [00:00<?, ?B/s]"
      ]
     },
     "metadata": {},
     "output_type": "display_data"
    },
    {
     "data": {
      "application/vnd.jupyter.widget-view+json": {
       "model_id": "dfdb6ac6b53b410a8e6c5f85351c8ef6",
       "version_major": 2,
       "version_minor": 0
      },
      "text/plain": [
       "Downloading vocab.txt:   0%|          | 0.00/232k [00:00<?, ?B/s]"
      ]
     },
     "metadata": {},
     "output_type": "display_data"
    },
    {
     "data": {
      "application/vnd.jupyter.widget-view+json": {
       "model_id": "7b082b85bfbd49beb02ef688a0ec2cc3",
       "version_major": 2,
       "version_minor": 0
      },
      "text/plain": [
       "Downloading modules.json:   0%|          | 0.00/349 [00:00<?, ?B/s]"
      ]
     },
     "metadata": {},
     "output_type": "display_data"
    },
    {
     "name": "stdout",
     "output_type": "stream",
     "text": [
      "2023-12-18 17:41:09,564 INFO: Use pytorch device: cuda\n"
     ]
    }
   ],
   "source": [
    "from sentence_transformers import SentenceTransformer\n",
    "model = SentenceTransformer('all-MiniLM-L6-v2')"
   ]
  },
  {
   "cell_type": "code",
   "execution_count": 10,
   "id": "f43889ff",
   "metadata": {},
   "outputs": [],
   "source": [
    "product_ids, products_info = [], []\n",
    "for index, row in df.iterrows():\n",
    "    product_ids.append(row[\"product_id\"])\n",
    "    products_info.append(row.to_string().replace(\"   \", \"\").replace(\"\\n\", \", \"))"
   ]
  },
  {
   "cell_type": "code",
   "execution_count": 11,
   "id": "8472114d",
   "metadata": {},
   "outputs": [
    {
     "data": {
      "text/plain": [
       "'order_id00010242fe8c5a6d1ba2dd792cb16214, order_item_id  1, product_id 4244733e06e7ecb4970a6e2683c13e61, seller_id  48436dade18ac8b2bce089ec2a041202, shipping_limit_date  2017-09-19 09:45:35, price 58.9, freight_value 13.29'"
      ]
     },
     "execution_count": 11,
     "metadata": {},
     "output_type": "execute_result"
    }
   ],
   "source": [
    "products_info[0]"
   ]
  },
  {
   "cell_type": "code",
   "execution_count": 12,
   "id": "9ce8d7ad",
   "metadata": {},
   "outputs": [
    {
     "data": {
      "application/vnd.jupyter.widget-view+json": {
       "model_id": "c8d0bbe347334ef2b33a6d1129dea0e0",
       "version_major": 2,
       "version_minor": 0
      },
      "text/plain": [
       "Batches:   0%|          | 0/3521 [00:00<?, ?it/s]"
      ]
     },
     "metadata": {},
     "output_type": "display_data"
    }
   ],
   "source": [
    "embeddings = model.encode(products_info)"
   ]
  },
  {
   "cell_type": "markdown",
   "id": "132682ce",
   "metadata": {},
   "source": [
    "## Insert Embeddings into Vector DB"
   ]
  },
  {
   "cell_type": "code",
   "execution_count": 13,
   "id": "d0d9eaf6",
   "metadata": {},
   "outputs": [],
   "source": [
    "from opensearchpy import OpenSearch\n",
    "\n",
    "opensearch_api = proj.get_opensearch_api()\n",
    "client = OpenSearch(**opensearch_api.get_default_py_config())"
   ]
  },
  {
   "cell_type": "code",
   "execution_count": 14,
   "id": "2464be25",
   "metadata": {},
   "outputs": [],
   "source": [
    "index_name = opensearch_api.get_project_index(\"products_index\")\n",
    "emb_dim = 384"
   ]
  },
  {
   "cell_type": "code",
   "execution_count": 15,
   "id": "e6c67030",
   "metadata": {},
   "outputs": [
    {
     "name": "stdout",
     "output_type": "stream",
     "text": [
      "2023-12-18 17:44:10,181 INFO: PUT https://10.164.15.202:9200/finetune_products_index [status:200 request:0.116s]\n",
      "{'acknowledged': True, 'shards_acknowledged': True, 'index': 'finetune_products_index'}\n"
     ]
    },
    {
     "name": "stderr",
     "output_type": "stream",
     "text": [
      "DeprecationWarning: HTTPResponse.getheaders() is deprecated and will be removed in urllib3 v2.1.0. Instead access HTTPResponse.headers directly.\n"
     ]
    }
   ],
   "source": [
    "# Dimensionality of candidate embeddings.\n",
    "\n",
    "index_body = {\n",
    "    \"settings\": {\n",
    "        \"knn\": True,\n",
    "        \"knn.algo_param.ef_search\": 100,\n",
    "    },\n",
    "    \"mappings\": {\n",
    "        \"properties\": {\n",
    "            \"my_vector1\": {\n",
    "                \"type\": \"knn_vector\",\n",
    "                \"dimension\": emb_dim,\n",
    "                \"method\": {\n",
    "                    \"name\": \"hnsw\",\n",
    "                    \"space_type\": \"innerproduct\",\n",
    "                    \"engine\": \"faiss\",\n",
    "                    \"parameters\": {\n",
    "                        \"ef_construction\": 256,\n",
    "                        \"m\": 48\n",
    "                    }\n",
    "                }\n",
    "            }\n",
    "        }\n",
    "    }\n",
    "}\n",
    "\n",
    "response = client.indices.create(index_name, body=index_body)\n",
    "print(response)"
   ]
  },
  {
   "cell_type": "code",
   "execution_count": 16,
   "id": "a34fd7b1",
   "metadata": {},
   "outputs": [],
   "source": [
    "from opensearchpy.helpers import bulk\n",
    "import numpy as np\n",
    "\n",
    "actions = []\n",
    "for product_id, embedding in zip(product_ids, embeddings):    \n",
    "    actions.append({\n",
    "        \"_index\": index_name,\n",
    "        \"_id\": product_id,\n",
    "        \"_source\": {\n",
    "            \"my_vector1\": embedding,\n",
    "        }\n",
    "    })"
   ]
  },
  {
   "cell_type": "code",
   "execution_count": 17,
   "id": "a9ce2e69",
   "metadata": {},
   "outputs": [
    {
     "name": "stdout",
     "output_type": "stream",
     "text": [
      "2023-12-18 17:44:11,060 INFO: POST https://10.164.15.202:9200/_bulk [status:200 request:0.296s]\n",
      "2023-12-18 17:44:11,503 INFO: POST https://10.164.15.202:9200/_bulk [status:200 request:0.275s]\n",
      "2023-12-18 17:44:11,946 INFO: POST https://10.164.15.202:9200/_bulk [status:200 request:0.273s]\n",
      "2023-12-18 17:44:12,388 INFO: POST https://10.164.15.202:9200/_bulk [status:200 request:0.268s]\n",
      "2023-12-18 17:44:12,849 INFO: POST https://10.164.15.202:9200/_bulk [status:200 request:0.273s]\n",
      "2023-12-18 17:44:13,271 INFO: POST https://10.164.15.202:9200/_bulk [status:200 request:0.260s]\n",
      "2023-12-18 17:44:13,721 INFO: POST https://10.164.15.202:9200/_bulk [status:200 request:0.279s]\n",
      "2023-12-18 17:44:14,198 INFO: POST https://10.164.15.202:9200/_bulk [status:200 request:0.297s]\n",
      "2023-12-18 17:44:14,641 INFO: POST https://10.164.15.202:9200/_bulk [status:200 request:0.273s]\n",
      "2023-12-18 17:44:15,078 INFO: POST https://10.164.15.202:9200/_bulk [status:200 request:0.267s]\n",
      "2023-12-18 17:44:15,514 INFO: POST https://10.164.15.202:9200/_bulk [status:200 request:0.271s]\n",
      "2023-12-18 17:44:15,951 INFO: POST https://10.164.15.202:9200/_bulk [status:200 request:0.270s]\n",
      "2023-12-18 17:44:16,389 INFO: POST https://10.164.15.202:9200/_bulk [status:200 request:0.264s]\n",
      "2023-12-18 17:44:16,850 INFO: POST https://10.164.15.202:9200/_bulk [status:200 request:0.287s]\n",
      "2023-12-18 17:44:17,316 INFO: POST https://10.164.15.202:9200/_bulk [status:200 request:0.281s]\n",
      "2023-12-18 17:44:17,752 INFO: POST https://10.164.15.202:9200/_bulk [status:200 request:0.268s]\n",
      "2023-12-18 17:44:18,191 INFO: POST https://10.164.15.202:9200/_bulk [status:200 request:0.268s]\n",
      "2023-12-18 17:44:18,624 INFO: POST https://10.164.15.202:9200/_bulk [status:200 request:0.261s]\n",
      "2023-12-18 17:44:19,055 INFO: POST https://10.164.15.202:9200/_bulk [status:200 request:0.267s]\n",
      "2023-12-18 17:44:19,498 INFO: POST https://10.164.15.202:9200/_bulk [status:200 request:0.273s]\n",
      "2023-12-18 17:44:19,942 INFO: POST https://10.164.15.202:9200/_bulk [status:200 request:0.272s]\n",
      "2023-12-18 17:44:20,398 INFO: POST https://10.164.15.202:9200/_bulk [status:200 request:0.279s]\n",
      "2023-12-18 17:44:20,833 INFO: POST https://10.164.15.202:9200/_bulk [status:200 request:0.266s]\n",
      "2023-12-18 17:44:21,270 INFO: POST https://10.164.15.202:9200/_bulk [status:200 request:0.267s]\n",
      "2023-12-18 17:44:21,701 INFO: POST https://10.164.15.202:9200/_bulk [status:200 request:0.260s]\n",
      "2023-12-18 17:44:22,132 INFO: POST https://10.164.15.202:9200/_bulk [status:200 request:0.264s]\n",
      "2023-12-18 17:44:22,588 INFO: POST https://10.164.15.202:9200/_bulk [status:200 request:0.289s]\n",
      "2023-12-18 17:44:23,022 INFO: POST https://10.164.15.202:9200/_bulk [status:200 request:0.261s]\n",
      "2023-12-18 17:44:23,453 INFO: POST https://10.164.15.202:9200/_bulk [status:200 request:0.267s]\n",
      "2023-12-18 17:44:23,872 INFO: POST https://10.164.15.202:9200/_bulk [status:200 request:0.250s]\n",
      "2023-12-18 17:44:24,302 INFO: POST https://10.164.15.202:9200/_bulk [status:200 request:0.260s]\n",
      "2023-12-18 17:44:24,738 INFO: POST https://10.164.15.202:9200/_bulk [status:200 request:0.265s]\n",
      "2023-12-18 17:44:25,200 INFO: POST https://10.164.15.202:9200/_bulk [status:200 request:0.282s]\n",
      "2023-12-18 17:44:25,704 INFO: POST https://10.164.15.202:9200/_bulk [status:200 request:0.304s]\n",
      "2023-12-18 17:44:26,154 INFO: POST https://10.164.15.202:9200/_bulk [status:200 request:0.270s]\n",
      "2023-12-18 17:44:26,606 INFO: POST https://10.164.15.202:9200/_bulk [status:200 request:0.267s]\n",
      "2023-12-18 17:44:27,039 INFO: POST https://10.164.15.202:9200/_bulk [status:200 request:0.267s]\n",
      "2023-12-18 17:44:27,480 INFO: POST https://10.164.15.202:9200/_bulk [status:200 request:0.270s]\n",
      "2023-12-18 17:44:27,950 INFO: POST https://10.164.15.202:9200/_bulk [status:200 request:0.291s]\n",
      "2023-12-18 17:44:28,388 INFO: POST https://10.164.15.202:9200/_bulk [status:200 request:0.257s]\n",
      "2023-12-18 17:44:28,828 INFO: POST https://10.164.15.202:9200/_bulk [status:200 request:0.260s]\n",
      "2023-12-18 17:44:29,271 INFO: POST https://10.164.15.202:9200/_bulk [status:200 request:0.257s]\n",
      "2023-12-18 17:44:29,702 INFO: POST https://10.164.15.202:9200/_bulk [status:200 request:0.263s]\n",
      "2023-12-18 17:44:30,157 INFO: POST https://10.164.15.202:9200/_bulk [status:200 request:0.284s]\n",
      "2023-12-18 17:44:30,612 INFO: POST https://10.164.15.202:9200/_bulk [status:200 request:0.275s]\n",
      "2023-12-18 17:44:31,061 INFO: POST https://10.164.15.202:9200/_bulk [status:200 request:0.274s]\n",
      "2023-12-18 17:44:31,489 INFO: POST https://10.164.15.202:9200/_bulk [status:200 request:0.260s]\n",
      "2023-12-18 17:44:31,922 INFO: POST https://10.164.15.202:9200/_bulk [status:200 request:0.262s]\n",
      "2023-12-18 17:44:32,366 INFO: POST https://10.164.15.202:9200/_bulk [status:200 request:0.272s]\n",
      "2023-12-18 17:44:32,820 INFO: POST https://10.164.15.202:9200/_bulk [status:200 request:0.289s]\n",
      "2023-12-18 17:44:33,273 INFO: POST https://10.164.15.202:9200/_bulk [status:200 request:0.273s]\n",
      "2023-12-18 17:44:33,724 INFO: POST https://10.164.15.202:9200/_bulk [status:200 request:0.272s]\n",
      "2023-12-18 17:44:34,149 INFO: POST https://10.164.15.202:9200/_bulk [status:200 request:0.252s]\n",
      "2023-12-18 17:44:34,584 INFO: POST https://10.164.15.202:9200/_bulk [status:200 request:0.257s]\n",
      "2023-12-18 17:44:35,039 INFO: POST https://10.164.15.202:9200/_bulk [status:200 request:0.261s]\n",
      "2023-12-18 17:44:35,458 INFO: POST https://10.164.15.202:9200/_bulk [status:200 request:0.254s]\n",
      "2023-12-18 17:44:35,909 INFO: POST https://10.164.15.202:9200/_bulk [status:200 request:0.276s]\n",
      "2023-12-18 17:44:36,349 INFO: POST https://10.164.15.202:9200/_bulk [status:200 request:0.265s]\n",
      "2023-12-18 17:44:36,822 INFO: POST https://10.164.15.202:9200/_bulk [status:200 request:0.271s]\n",
      "2023-12-18 17:44:37,341 INFO: POST https://10.164.15.202:9200/_bulk [status:200 request:0.266s]\n",
      "2023-12-18 17:44:37,831 INFO: POST https://10.164.15.202:9200/_bulk [status:200 request:0.280s]\n",
      "2023-12-18 17:44:38,288 INFO: POST https://10.164.15.202:9200/_bulk [status:200 request:0.285s]\n",
      "2023-12-18 17:44:38,747 INFO: POST https://10.164.15.202:9200/_bulk [status:200 request:0.284s]\n",
      "2023-12-18 17:44:39,217 INFO: POST https://10.164.15.202:9200/_bulk [status:200 request:0.284s]\n",
      "2023-12-18 17:44:39,652 INFO: POST https://10.164.15.202:9200/_bulk [status:200 request:0.264s]\n",
      "2023-12-18 17:44:40,119 INFO: POST https://10.164.15.202:9200/_bulk [status:200 request:0.297s]\n",
      "2023-12-18 17:44:40,561 INFO: POST https://10.164.15.202:9200/_bulk [status:200 request:0.259s]\n",
      "2023-12-18 17:44:41,010 INFO: POST https://10.164.15.202:9200/_bulk [status:200 request:0.278s]\n",
      "2023-12-18 17:44:41,462 INFO: POST https://10.164.15.202:9200/_bulk [status:200 request:0.263s]\n",
      "2023-12-18 17:44:41,890 INFO: POST https://10.164.15.202:9200/_bulk [status:200 request:0.259s]\n",
      "2023-12-18 17:44:42,339 INFO: POST https://10.164.15.202:9200/_bulk [status:200 request:0.278s]\n",
      "2023-12-18 17:44:42,764 INFO: POST https://10.164.15.202:9200/_bulk [status:200 request:0.264s]\n",
      "2023-12-18 17:44:43,200 INFO: POST https://10.164.15.202:9200/_bulk [status:200 request:0.264s]\n",
      "2023-12-18 17:44:43,648 INFO: POST https://10.164.15.202:9200/_bulk [status:200 request:0.277s]\n",
      "2023-12-18 17:44:44,085 INFO: POST https://10.164.15.202:9200/_bulk [status:200 request:0.266s]\n",
      "2023-12-18 17:44:44,526 INFO: POST https://10.164.15.202:9200/_bulk [status:200 request:0.265s]\n",
      "2023-12-18 17:44:44,969 INFO: POST https://10.164.15.202:9200/_bulk [status:200 request:0.260s]\n",
      "2023-12-18 17:44:45,397 INFO: POST https://10.164.15.202:9200/_bulk [status:200 request:0.261s]\n",
      "2023-12-18 17:44:45,839 INFO: POST https://10.164.15.202:9200/_bulk [status:200 request:0.273s]\n",
      "2023-12-18 17:44:46,287 INFO: POST https://10.164.15.202:9200/_bulk [status:200 request:0.268s]\n",
      "2023-12-18 17:44:46,731 INFO: POST https://10.164.15.202:9200/_bulk [status:200 request:0.277s]\n",
      "2023-12-18 17:44:47,188 INFO: POST https://10.164.15.202:9200/_bulk [status:200 request:0.271s]\n",
      "2023-12-18 17:44:47,635 INFO: POST https://10.164.15.202:9200/_bulk [status:200 request:0.267s]\n",
      "2023-12-18 17:44:48,105 INFO: POST https://10.164.15.202:9200/_bulk [status:200 request:0.267s]\n",
      "2023-12-18 17:44:48,537 INFO: POST https://10.164.15.202:9200/_bulk [status:200 request:0.262s]\n",
      "2023-12-18 17:44:48,990 INFO: POST https://10.164.15.202:9200/_bulk [status:200 request:0.283s]\n",
      "2023-12-18 17:44:49,744 INFO: POST https://10.164.15.202:9200/_bulk [status:200 request:0.269s]\n",
      "2023-12-18 17:44:50,210 INFO: POST https://10.164.15.202:9200/_bulk [status:200 request:0.278s]\n",
      "2023-12-18 17:44:50,642 INFO: POST https://10.164.15.202:9200/_bulk [status:200 request:0.258s]\n",
      "2023-12-18 17:44:51,070 INFO: POST https://10.164.15.202:9200/_bulk [status:200 request:0.262s]\n",
      "2023-12-18 17:44:51,499 INFO: POST https://10.164.15.202:9200/_bulk [status:200 request:0.258s]\n",
      "2023-12-18 17:44:51,929 INFO: POST https://10.164.15.202:9200/_bulk [status:200 request:0.264s]\n",
      "2023-12-18 17:44:52,385 INFO: POST https://10.164.15.202:9200/_bulk [status:200 request:0.278s]\n",
      "2023-12-18 17:44:52,823 INFO: POST https://10.164.15.202:9200/_bulk [status:200 request:0.264s]\n",
      "2023-12-18 17:44:53,255 INFO: POST https://10.164.15.202:9200/_bulk [status:200 request:0.265s]\n",
      "2023-12-18 17:44:53,705 INFO: POST https://10.164.15.202:9200/_bulk [status:200 request:0.264s]\n",
      "2023-12-18 17:44:54,144 INFO: POST https://10.164.15.202:9200/_bulk [status:200 request:0.265s]\n",
      "2023-12-18 17:44:54,603 INFO: POST https://10.164.15.202:9200/_bulk [status:200 request:0.294s]\n",
      "2023-12-18 17:44:55,046 INFO: POST https://10.164.15.202:9200/_bulk [status:200 request:0.265s]\n",
      "2023-12-18 17:44:55,475 INFO: POST https://10.164.15.202:9200/_bulk [status:200 request:0.256s]\n",
      "2023-12-18 17:44:55,904 INFO: POST https://10.164.15.202:9200/_bulk [status:200 request:0.260s]\n",
      "2023-12-18 17:44:56,340 INFO: POST https://10.164.15.202:9200/_bulk [status:200 request:0.262s]\n",
      "2023-12-18 17:44:56,790 INFO: POST https://10.164.15.202:9200/_bulk [status:200 request:0.277s]\n",
      "2023-12-18 17:44:57,224 INFO: POST https://10.164.15.202:9200/_bulk [status:200 request:0.264s]\n",
      "2023-12-18 17:44:57,671 INFO: POST https://10.164.15.202:9200/_bulk [status:200 request:0.274s]\n",
      "2023-12-18 17:44:58,114 INFO: POST https://10.164.15.202:9200/_bulk [status:200 request:0.265s]\n",
      "2023-12-18 17:44:58,555 INFO: POST https://10.164.15.202:9200/_bulk [status:200 request:0.268s]\n",
      "2023-12-18 17:44:59,026 INFO: POST https://10.164.15.202:9200/_bulk [status:200 request:0.299s]\n",
      "2023-12-18 17:44:59,538 INFO: POST https://10.164.15.202:9200/_bulk [status:200 request:0.343s]\n",
      "2023-12-18 17:45:00,017 INFO: POST https://10.164.15.202:9200/_bulk [status:200 request:0.310s]\n",
      "2023-12-18 17:45:00,465 INFO: POST https://10.164.15.202:9200/_bulk [status:200 request:0.267s]\n",
      "2023-12-18 17:45:00,899 INFO: POST https://10.164.15.202:9200/_bulk [status:200 request:0.261s]\n",
      "2023-12-18 17:45:01,337 INFO: POST https://10.164.15.202:9200/_bulk [status:200 request:0.267s]\n",
      "2023-12-18 17:45:01,781 INFO: POST https://10.164.15.202:9200/_bulk [status:200 request:0.269s]\n",
      "2023-12-18 17:45:02,214 INFO: POST https://10.164.15.202:9200/_bulk [status:200 request:0.263s]\n",
      "2023-12-18 17:45:02,669 INFO: POST https://10.164.15.202:9200/_bulk [status:200 request:0.274s]\n",
      "2023-12-18 17:45:03,119 INFO: POST https://10.164.15.202:9200/_bulk [status:200 request:0.279s]\n",
      "2023-12-18 17:45:03,562 INFO: POST https://10.164.15.202:9200/_bulk [status:200 request:0.262s]\n",
      "2023-12-18 17:45:04,000 INFO: POST https://10.164.15.202:9200/_bulk [status:200 request:0.271s]\n",
      "2023-12-18 17:45:04,449 INFO: POST https://10.164.15.202:9200/_bulk [status:200 request:0.272s]\n",
      "2023-12-18 17:45:04,894 INFO: POST https://10.164.15.202:9200/_bulk [status:200 request:0.266s]\n",
      "2023-12-18 17:45:05,333 INFO: POST https://10.164.15.202:9200/_bulk [status:200 request:0.266s]\n",
      "2023-12-18 17:45:05,778 INFO: POST https://10.164.15.202:9200/_bulk [status:200 request:0.274s]\n",
      "2023-12-18 17:45:06,229 INFO: POST https://10.164.15.202:9200/_bulk [status:200 request:0.266s]\n",
      "2023-12-18 17:45:06,692 INFO: POST https://10.164.15.202:9200/_bulk [status:200 request:0.297s]\n",
      "2023-12-18 17:45:07,127 INFO: POST https://10.164.15.202:9200/_bulk [status:200 request:0.260s]\n",
      "2023-12-18 17:45:07,564 INFO: POST https://10.164.15.202:9200/_bulk [status:200 request:0.266s]\n",
      "2023-12-18 17:45:07,995 INFO: POST https://10.164.15.202:9200/_bulk [status:200 request:0.262s]\n",
      "2023-12-18 17:45:08,446 INFO: POST https://10.164.15.202:9200/_bulk [status:200 request:0.265s]\n",
      "2023-12-18 17:45:08,891 INFO: POST https://10.164.15.202:9200/_bulk [status:200 request:0.270s]\n",
      "2023-12-18 17:45:09,328 INFO: POST https://10.164.15.202:9200/_bulk [status:200 request:0.258s]\n",
      "2023-12-18 17:45:09,778 INFO: POST https://10.164.15.202:9200/_bulk [status:200 request:0.275s]\n",
      "2023-12-18 17:45:10,625 INFO: POST https://10.164.15.202:9200/_bulk [status:200 request:0.668s]\n",
      "2023-12-18 17:45:11,069 INFO: POST https://10.164.15.202:9200/_bulk [status:200 request:0.280s]\n",
      "2023-12-18 17:45:11,604 INFO: POST https://10.164.15.202:9200/_bulk [status:200 request:0.334s]\n",
      "2023-12-18 17:45:12,081 INFO: POST https://10.164.15.202:9200/_bulk [status:200 request:0.308s]\n",
      "2023-12-18 17:45:12,519 INFO: POST https://10.164.15.202:9200/_bulk [status:200 request:0.264s]\n",
      "2023-12-18 17:45:12,967 INFO: POST https://10.164.15.202:9200/_bulk [status:200 request:0.267s]\n",
      "2023-12-18 17:45:13,412 INFO: POST https://10.164.15.202:9200/_bulk [status:200 request:0.269s]\n",
      "2023-12-18 17:45:13,878 INFO: POST https://10.164.15.202:9200/_bulk [status:200 request:0.280s]\n",
      "2023-12-18 17:45:14,329 INFO: POST https://10.164.15.202:9200/_bulk [status:200 request:0.277s]\n",
      "2023-12-18 17:45:14,786 INFO: POST https://10.164.15.202:9200/_bulk [status:200 request:0.274s]\n",
      "2023-12-18 17:45:15,215 INFO: POST https://10.164.15.202:9200/_bulk [status:200 request:0.260s]\n",
      "2023-12-18 17:45:15,659 INFO: POST https://10.164.15.202:9200/_bulk [status:200 request:0.268s]\n",
      "2023-12-18 17:45:16,096 INFO: POST https://10.164.15.202:9200/_bulk [status:200 request:0.270s]\n",
      "2023-12-18 17:45:16,551 INFO: POST https://10.164.15.202:9200/_bulk [status:200 request:0.276s]\n",
      "2023-12-18 17:45:17,026 INFO: POST https://10.164.15.202:9200/_bulk [status:200 request:0.264s]\n",
      "2023-12-18 17:45:17,467 INFO: POST https://10.164.15.202:9200/_bulk [status:200 request:0.271s]\n",
      "2023-12-18 17:45:17,923 INFO: POST https://10.164.15.202:9200/_bulk [status:200 request:0.279s]\n",
      "2023-12-18 17:45:18,368 INFO: POST https://10.164.15.202:9200/_bulk [status:200 request:0.263s]\n",
      "2023-12-18 17:45:18,801 INFO: POST https://10.164.15.202:9200/_bulk [status:200 request:0.266s]\n",
      "2023-12-18 17:45:19,282 INFO: POST https://10.164.15.202:9200/_bulk [status:200 request:0.279s]\n",
      "2023-12-18 17:45:19,736 INFO: POST https://10.164.15.202:9200/_bulk [status:200 request:0.274s]\n",
      "2023-12-18 17:45:20,191 INFO: POST https://10.164.15.202:9200/_bulk [status:200 request:0.275s]\n",
      "2023-12-18 17:45:20,619 INFO: POST https://10.164.15.202:9200/_bulk [status:200 request:0.255s]\n",
      "2023-12-18 17:45:21,098 INFO: POST https://10.164.15.202:9200/_bulk [status:200 request:0.308s]\n",
      "2023-12-18 17:45:21,565 INFO: POST https://10.164.15.202:9200/_bulk [status:200 request:0.288s]\n",
      "2023-12-18 17:45:21,997 INFO: POST https://10.164.15.202:9200/_bulk [status:200 request:0.263s]\n",
      "2023-12-18 17:45:22,456 INFO: POST https://10.164.15.202:9200/_bulk [status:200 request:0.285s]\n",
      "2023-12-18 17:45:22,893 INFO: POST https://10.164.15.202:9200/_bulk [status:200 request:0.257s]\n",
      "2023-12-18 17:45:23,332 INFO: POST https://10.164.15.202:9200/_bulk [status:200 request:0.266s]\n",
      "2023-12-18 17:45:23,771 INFO: POST https://10.164.15.202:9200/_bulk [status:200 request:0.269s]\n",
      "2023-12-18 17:45:24,211 INFO: POST https://10.164.15.202:9200/_bulk [status:200 request:0.267s]\n",
      "2023-12-18 17:45:24,653 INFO: POST https://10.164.15.202:9200/_bulk [status:200 request:0.274s]\n",
      "2023-12-18 17:45:25,103 INFO: POST https://10.164.15.202:9200/_bulk [status:200 request:0.271s]\n",
      "2023-12-18 17:45:25,532 INFO: POST https://10.164.15.202:9200/_bulk [status:200 request:0.261s]\n",
      "2023-12-18 17:45:25,977 INFO: POST https://10.164.15.202:9200/_bulk [status:200 request:0.269s]\n",
      "2023-12-18 17:45:26,417 INFO: POST https://10.164.15.202:9200/_bulk [status:200 request:0.271s]\n",
      "2023-12-18 17:45:26,861 INFO: POST https://10.164.15.202:9200/_bulk [status:200 request:0.261s]\n",
      "2023-12-18 17:45:27,313 INFO: POST https://10.164.15.202:9200/_bulk [status:200 request:0.267s]\n",
      "2023-12-18 17:45:27,749 INFO: POST https://10.164.15.202:9200/_bulk [status:200 request:0.265s]\n",
      "2023-12-18 17:45:28,187 INFO: POST https://10.164.15.202:9200/_bulk [status:200 request:0.275s]\n",
      "2023-12-18 17:45:28,632 INFO: POST https://10.164.15.202:9200/_bulk [status:200 request:0.266s]\n",
      "2023-12-18 17:45:29,074 INFO: POST https://10.164.15.202:9200/_bulk [status:200 request:0.273s]\n",
      "2023-12-18 17:45:29,500 INFO: POST https://10.164.15.202:9200/_bulk [status:200 request:0.258s]\n",
      "2023-12-18 17:45:29,963 INFO: POST https://10.164.15.202:9200/_bulk [status:200 request:0.283s]\n",
      "2023-12-18 17:45:30,416 INFO: POST https://10.164.15.202:9200/_bulk [status:200 request:0.263s]\n",
      "2023-12-18 17:45:30,849 INFO: POST https://10.164.15.202:9200/_bulk [status:200 request:0.268s]\n",
      "2023-12-18 17:45:31,282 INFO: POST https://10.164.15.202:9200/_bulk [status:200 request:0.264s]\n",
      "2023-12-18 17:45:31,716 INFO: POST https://10.164.15.202:9200/_bulk [status:200 request:0.267s]\n",
      "2023-12-18 17:45:32,143 INFO: POST https://10.164.15.202:9200/_bulk [status:200 request:0.259s]\n",
      "2023-12-18 17:45:32,604 INFO: POST https://10.164.15.202:9200/_bulk [status:200 request:0.286s]\n",
      "2023-12-18 17:45:33,063 INFO: POST https://10.164.15.202:9200/_bulk [status:200 request:0.282s]\n",
      "2023-12-18 17:45:33,515 INFO: POST https://10.164.15.202:9200/_bulk [status:200 request:0.264s]\n",
      "2023-12-18 17:45:33,967 INFO: POST https://10.164.15.202:9200/_bulk [status:200 request:0.263s]\n",
      "2023-12-18 17:45:34,386 INFO: POST https://10.164.15.202:9200/_bulk [status:200 request:0.255s]\n",
      "2023-12-18 17:45:34,827 INFO: POST https://10.164.15.202:9200/_bulk [status:200 request:0.269s]\n",
      "2023-12-18 17:45:35,278 INFO: POST https://10.164.15.202:9200/_bulk [status:200 request:0.263s]\n",
      "2023-12-18 17:45:35,735 INFO: POST https://10.164.15.202:9200/_bulk [status:200 request:0.293s]\n",
      "2023-12-18 17:45:36,163 INFO: POST https://10.164.15.202:9200/_bulk [status:200 request:0.260s]\n",
      "2023-12-18 17:45:36,633 INFO: POST https://10.164.15.202:9200/_bulk [status:200 request:0.282s]\n",
      "2023-12-18 17:45:37,073 INFO: POST https://10.164.15.202:9200/_bulk [status:200 request:0.260s]\n",
      "2023-12-18 17:45:37,515 INFO: POST https://10.164.15.202:9200/_bulk [status:200 request:0.270s]\n",
      "2023-12-18 17:45:37,959 INFO: POST https://10.164.15.202:9200/_bulk [status:200 request:0.271s]\n",
      "2023-12-18 17:45:38,405 INFO: POST https://10.164.15.202:9200/_bulk [status:200 request:0.268s]\n",
      "2023-12-18 17:45:38,844 INFO: POST https://10.164.15.202:9200/_bulk [status:200 request:0.268s]\n",
      "2023-12-18 17:45:39,293 INFO: POST https://10.164.15.202:9200/_bulk [status:200 request:0.263s]\n",
      "2023-12-18 17:45:39,742 INFO: POST https://10.164.15.202:9200/_bulk [status:200 request:0.276s]\n",
      "2023-12-18 17:45:40,192 INFO: POST https://10.164.15.202:9200/_bulk [status:200 request:0.274s]\n",
      "2023-12-18 17:45:40,636 INFO: POST https://10.164.15.202:9200/_bulk [status:200 request:0.269s]\n",
      "2023-12-18 17:45:41,077 INFO: POST https://10.164.15.202:9200/_bulk [status:200 request:0.259s]\n",
      "2023-12-18 17:45:41,525 INFO: POST https://10.164.15.202:9200/_bulk [status:200 request:0.258s]\n",
      "2023-12-18 17:45:41,953 INFO: POST https://10.164.15.202:9200/_bulk [status:200 request:0.262s]\n",
      "2023-12-18 17:45:42,403 INFO: POST https://10.164.15.202:9200/_bulk [status:200 request:0.280s]\n",
      "2023-12-18 17:45:42,841 INFO: POST https://10.164.15.202:9200/_bulk [status:200 request:0.269s]\n",
      "2023-12-18 17:45:43,276 INFO: POST https://10.164.15.202:9200/_bulk [status:200 request:0.264s]\n",
      "2023-12-18 17:45:43,707 INFO: POST https://10.164.15.202:9200/_bulk [status:200 request:0.258s]\n",
      "2023-12-18 17:45:44,162 INFO: POST https://10.164.15.202:9200/_bulk [status:200 request:0.258s]\n",
      "2023-12-18 17:45:44,596 INFO: POST https://10.164.15.202:9200/_bulk [status:200 request:0.265s]\n",
      "2023-12-18 17:45:45,071 INFO: POST https://10.164.15.202:9200/_bulk [status:200 request:0.280s]\n",
      "2023-12-18 17:45:45,499 INFO: POST https://10.164.15.202:9200/_bulk [status:200 request:0.257s]\n",
      "2023-12-18 17:45:45,929 INFO: POST https://10.164.15.202:9200/_bulk [status:200 request:0.262s]\n",
      "2023-12-18 17:45:46,459 INFO: POST https://10.164.15.202:9200/_bulk [status:200 request:0.284s]\n",
      "2023-12-18 17:45:46,895 INFO: POST https://10.164.15.202:9200/_bulk [status:200 request:0.255s]\n",
      "2023-12-18 17:45:47,340 INFO: POST https://10.164.15.202:9200/_bulk [status:200 request:0.276s]\n",
      "2023-12-18 17:45:47,785 INFO: POST https://10.164.15.202:9200/_bulk [status:200 request:0.261s]\n",
      "2023-12-18 17:45:48,239 INFO: POST https://10.164.15.202:9200/_bulk [status:200 request:0.270s]\n",
      "2023-12-18 17:45:48,679 INFO: POST https://10.164.15.202:9200/_bulk [status:200 request:0.257s]\n",
      "2023-12-18 17:45:49,139 INFO: POST https://10.164.15.202:9200/_bulk [status:200 request:0.277s]\n",
      "2023-12-18 17:45:49,581 INFO: POST https://10.164.15.202:9200/_bulk [status:200 request:0.268s]\n",
      "2023-12-18 17:45:50,035 INFO: POST https://10.164.15.202:9200/_bulk [status:200 request:0.274s]\n",
      "2023-12-18 17:45:50,472 INFO: POST https://10.164.15.202:9200/_bulk [status:200 request:0.262s]\n",
      "2023-12-18 17:45:50,899 INFO: POST https://10.164.15.202:9200/_bulk [status:200 request:0.259s]\n",
      "2023-12-18 17:45:51,334 INFO: POST https://10.164.15.202:9200/_bulk [status:200 request:0.258s]\n",
      "2023-12-18 17:45:51,988 INFO: POST https://10.164.15.202:9200/_bulk [status:200 request:0.486s]\n",
      "2023-12-18 17:45:52,268 INFO: POST https://10.164.15.202:9200/_bulk [status:200 request:0.226s]\n"
     ]
    },
    {
     "data": {
      "text/plain": [
       "(112650, [])"
      ]
     },
     "execution_count": 17,
     "metadata": {},
     "output_type": "execute_result"
    }
   ],
   "source": [
    "# Bulk insertion.\n",
    "bulk(client, actions)"
   ]
  },
  {
   "cell_type": "code",
   "execution_count": null,
   "id": "e8b83940",
   "metadata": {},
   "outputs": [],
   "source": []
  }
 ],
 "metadata": {
  "kernelspec": {
   "display_name": "Python 3",
   "language": "python",
   "name": "python3"
  },
  "language_info": {
   "codemirror_mode": {
    "name": "ipython",
    "version": 3
   },
   "file_extension": ".py",
   "mimetype": "text/x-python",
   "name": "python",
   "nbconvert_exporter": "python",
   "pygments_lexer": "ipython3",
   "version": "3.10.11"
  }
 },
 "nbformat": 4,
 "nbformat_minor": 5
}
