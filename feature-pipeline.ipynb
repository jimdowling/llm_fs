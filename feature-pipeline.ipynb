{
 "cells": [
  {
   "cell_type": "code",
   "execution_count": 1,
   "id": "d79f9394",
   "metadata": {},
   "outputs": [
    {
     "name": "stdout",
     "output_type": "stream",
     "text": [
      "2023-12-15 14:28:26,725 INFO: Note: NumExpr detected 16 cores but \"NUMEXPR_MAX_THREADS\" not set, so enforcing safe limit of 8.\n",
      "2023-12-15 14:28:26,726 INFO: NumExpr defaulting to 8 threads.\n",
      "Connected. Call `.close()` to terminate connection gracefully.\n",
      "\n",
      "Logged in to project, explore it here https://34.34.12.93/p/119\n",
      "Connected. Call `.close()` to terminate connection gracefully.\n"
     ]
    }
   ],
   "source": [
    "import hopsworks\n",
    "\n",
    "proj = hopsworks.login()\n",
    "fs = proj.get_feature_store()"
   ]
  },
  {
   "cell_type": "code",
   "execution_count": 2,
   "id": "a6677c54",
   "metadata": {},
   "outputs": [
    {
     "data": {
      "text/html": [
       "<div>\n",
       "<style scoped>\n",
       "    .dataframe tbody tr th:only-of-type {\n",
       "        vertical-align: middle;\n",
       "    }\n",
       "\n",
       "    .dataframe tbody tr th {\n",
       "        vertical-align: top;\n",
       "    }\n",
       "\n",
       "    .dataframe thead th {\n",
       "        text-align: right;\n",
       "    }\n",
       "</style>\n",
       "<table border=\"1\" class=\"dataframe\">\n",
       "  <thead>\n",
       "    <tr style=\"text-align: right;\">\n",
       "      <th></th>\n",
       "      <th>order_id</th>\n",
       "      <th>order_item_id</th>\n",
       "      <th>product_id</th>\n",
       "      <th>seller_id</th>\n",
       "      <th>shipping_limit_date</th>\n",
       "      <th>price</th>\n",
       "      <th>freight_value</th>\n",
       "    </tr>\n",
       "  </thead>\n",
       "  <tbody>\n",
       "    <tr>\n",
       "      <th>0</th>\n",
       "      <td>00010242fe8c5a6d1ba2dd792cb16214</td>\n",
       "      <td>1</td>\n",
       "      <td>4244733e06e7ecb4970a6e2683c13e61</td>\n",
       "      <td>48436dade18ac8b2bce089ec2a041202</td>\n",
       "      <td>2017-09-19 09:45:35</td>\n",
       "      <td>58.90</td>\n",
       "      <td>13.29</td>\n",
       "    </tr>\n",
       "    <tr>\n",
       "      <th>1</th>\n",
       "      <td>00018f77f2f0320c557190d7a144bdd3</td>\n",
       "      <td>1</td>\n",
       "      <td>e5f2d52b802189ee658865ca93d83a8f</td>\n",
       "      <td>dd7ddc04e1b6c2c614352b383efe2d36</td>\n",
       "      <td>2017-05-03 11:05:13</td>\n",
       "      <td>239.90</td>\n",
       "      <td>19.93</td>\n",
       "    </tr>\n",
       "    <tr>\n",
       "      <th>2</th>\n",
       "      <td>000229ec398224ef6ca0657da4fc703e</td>\n",
       "      <td>1</td>\n",
       "      <td>c777355d18b72b67abbeef9df44fd0fd</td>\n",
       "      <td>5b51032eddd242adc84c38acab88f23d</td>\n",
       "      <td>2018-01-18 14:48:30</td>\n",
       "      <td>199.00</td>\n",
       "      <td>17.87</td>\n",
       "    </tr>\n",
       "    <tr>\n",
       "      <th>3</th>\n",
       "      <td>00024acbcdf0a6daa1e931b038114c75</td>\n",
       "      <td>1</td>\n",
       "      <td>7634da152a4610f1595efa32f14722fc</td>\n",
       "      <td>9d7a1d34a5052409006425275ba1c2b4</td>\n",
       "      <td>2018-08-15 10:10:18</td>\n",
       "      <td>12.99</td>\n",
       "      <td>12.79</td>\n",
       "    </tr>\n",
       "    <tr>\n",
       "      <th>4</th>\n",
       "      <td>00042b26cf59d7ce69dfabb4e55b4fd9</td>\n",
       "      <td>1</td>\n",
       "      <td>ac6c3623068f30de03045865e4e10089</td>\n",
       "      <td>df560393f3a51e74553ab94004ba5c87</td>\n",
       "      <td>2017-02-13 13:57:51</td>\n",
       "      <td>199.90</td>\n",
       "      <td>18.14</td>\n",
       "    </tr>\n",
       "    <tr>\n",
       "      <th>...</th>\n",
       "      <td>...</td>\n",
       "      <td>...</td>\n",
       "      <td>...</td>\n",
       "      <td>...</td>\n",
       "      <td>...</td>\n",
       "      <td>...</td>\n",
       "      <td>...</td>\n",
       "    </tr>\n",
       "    <tr>\n",
       "      <th>112645</th>\n",
       "      <td>fffc94f6ce00a00581880bf54a75a037</td>\n",
       "      <td>1</td>\n",
       "      <td>4aa6014eceb682077f9dc4bffebc05b0</td>\n",
       "      <td>b8bc237ba3788b23da09c0f1f3a3288c</td>\n",
       "      <td>2018-05-02 04:11:01</td>\n",
       "      <td>299.99</td>\n",
       "      <td>43.41</td>\n",
       "    </tr>\n",
       "    <tr>\n",
       "      <th>112646</th>\n",
       "      <td>fffcd46ef2263f404302a634eb57f7eb</td>\n",
       "      <td>1</td>\n",
       "      <td>32e07fd915822b0765e448c4dd74c828</td>\n",
       "      <td>f3c38ab652836d21de61fb8314b69182</td>\n",
       "      <td>2018-07-20 04:31:48</td>\n",
       "      <td>350.00</td>\n",
       "      <td>36.53</td>\n",
       "    </tr>\n",
       "    <tr>\n",
       "      <th>112647</th>\n",
       "      <td>fffce4705a9662cd70adb13d4a31832d</td>\n",
       "      <td>1</td>\n",
       "      <td>72a30483855e2eafc67aee5dc2560482</td>\n",
       "      <td>c3cfdc648177fdbbbb35635a37472c53</td>\n",
       "      <td>2017-10-30 17:14:25</td>\n",
       "      <td>99.90</td>\n",
       "      <td>16.95</td>\n",
       "    </tr>\n",
       "    <tr>\n",
       "      <th>112648</th>\n",
       "      <td>fffe18544ffabc95dfada21779c9644f</td>\n",
       "      <td>1</td>\n",
       "      <td>9c422a519119dcad7575db5af1ba540e</td>\n",
       "      <td>2b3e4a2a3ea8e01938cabda2a3e5cc79</td>\n",
       "      <td>2017-08-21 00:04:32</td>\n",
       "      <td>55.99</td>\n",
       "      <td>8.72</td>\n",
       "    </tr>\n",
       "    <tr>\n",
       "      <th>112649</th>\n",
       "      <td>fffe41c64501cc87c801fd61db3f6244</td>\n",
       "      <td>1</td>\n",
       "      <td>350688d9dc1e75ff97be326363655e01</td>\n",
       "      <td>f7ccf836d21b2fb1de37564105216cc1</td>\n",
       "      <td>2018-06-12 17:10:13</td>\n",
       "      <td>43.00</td>\n",
       "      <td>12.79</td>\n",
       "    </tr>\n",
       "  </tbody>\n",
       "</table>\n",
       "<p>112650 rows × 7 columns</p>\n",
       "</div>"
      ],
      "text/plain": [
       "                                order_id  order_item_id  \\\n",
       "0       00010242fe8c5a6d1ba2dd792cb16214              1   \n",
       "1       00018f77f2f0320c557190d7a144bdd3              1   \n",
       "2       000229ec398224ef6ca0657da4fc703e              1   \n",
       "3       00024acbcdf0a6daa1e931b038114c75              1   \n",
       "4       00042b26cf59d7ce69dfabb4e55b4fd9              1   \n",
       "...                                  ...            ...   \n",
       "112645  fffc94f6ce00a00581880bf54a75a037              1   \n",
       "112646  fffcd46ef2263f404302a634eb57f7eb              1   \n",
       "112647  fffce4705a9662cd70adb13d4a31832d              1   \n",
       "112648  fffe18544ffabc95dfada21779c9644f              1   \n",
       "112649  fffe41c64501cc87c801fd61db3f6244              1   \n",
       "\n",
       "                              product_id                         seller_id  \\\n",
       "0       4244733e06e7ecb4970a6e2683c13e61  48436dade18ac8b2bce089ec2a041202   \n",
       "1       e5f2d52b802189ee658865ca93d83a8f  dd7ddc04e1b6c2c614352b383efe2d36   \n",
       "2       c777355d18b72b67abbeef9df44fd0fd  5b51032eddd242adc84c38acab88f23d   \n",
       "3       7634da152a4610f1595efa32f14722fc  9d7a1d34a5052409006425275ba1c2b4   \n",
       "4       ac6c3623068f30de03045865e4e10089  df560393f3a51e74553ab94004ba5c87   \n",
       "...                                  ...                               ...   \n",
       "112645  4aa6014eceb682077f9dc4bffebc05b0  b8bc237ba3788b23da09c0f1f3a3288c   \n",
       "112646  32e07fd915822b0765e448c4dd74c828  f3c38ab652836d21de61fb8314b69182   \n",
       "112647  72a30483855e2eafc67aee5dc2560482  c3cfdc648177fdbbbb35635a37472c53   \n",
       "112648  9c422a519119dcad7575db5af1ba540e  2b3e4a2a3ea8e01938cabda2a3e5cc79   \n",
       "112649  350688d9dc1e75ff97be326363655e01  f7ccf836d21b2fb1de37564105216cc1   \n",
       "\n",
       "        shipping_limit_date   price  freight_value  \n",
       "0       2017-09-19 09:45:35   58.90          13.29  \n",
       "1       2017-05-03 11:05:13  239.90          19.93  \n",
       "2       2018-01-18 14:48:30  199.00          17.87  \n",
       "3       2018-08-15 10:10:18   12.99          12.79  \n",
       "4       2017-02-13 13:57:51  199.90          18.14  \n",
       "...                     ...     ...            ...  \n",
       "112645  2018-05-02 04:11:01  299.99          43.41  \n",
       "112646  2018-07-20 04:31:48  350.00          36.53  \n",
       "112647  2017-10-30 17:14:25   99.90          16.95  \n",
       "112648  2017-08-21 00:04:32   55.99           8.72  \n",
       "112649  2018-06-12 17:10:13   43.00          12.79  \n",
       "\n",
       "[112650 rows x 7 columns]"
      ]
     },
     "execution_count": 2,
     "metadata": {},
     "output_type": "execute_result"
    }
   ],
   "source": [
    "import pandas as pd\n",
    "\n",
    "df = pd.read_csv(\"data/ecommerce/order_item.csv\")\n",
    "df"
   ]
  },
  {
   "cell_type": "code",
   "execution_count": 3,
   "id": "de4402af",
   "metadata": {},
   "outputs": [
    {
     "data": {
      "text/html": [
       "<div>\n",
       "<style scoped>\n",
       "    .dataframe tbody tr th:only-of-type {\n",
       "        vertical-align: middle;\n",
       "    }\n",
       "\n",
       "    .dataframe tbody tr th {\n",
       "        vertical-align: top;\n",
       "    }\n",
       "\n",
       "    .dataframe thead th {\n",
       "        text-align: right;\n",
       "    }\n",
       "</style>\n",
       "<table border=\"1\" class=\"dataframe\">\n",
       "  <thead>\n",
       "    <tr style=\"text-align: right;\">\n",
       "      <th></th>\n",
       "      <th>product_id</th>\n",
       "      <th>product_category_name</th>\n",
       "      <th>product_name_len</th>\n",
       "      <th>product_description_len</th>\n",
       "      <th>product_photos_qty</th>\n",
       "      <th>product_weight_g</th>\n",
       "      <th>product_length_cm</th>\n",
       "      <th>product_height_cm</th>\n",
       "      <th>product_width_cm</th>\n",
       "    </tr>\n",
       "  </thead>\n",
       "  <tbody>\n",
       "    <tr>\n",
       "      <th>0</th>\n",
       "      <td>1e9e8ef04dbcff4541ed26657ea517e5</td>\n",
       "      <td>perfumaria</td>\n",
       "      <td>40.0</td>\n",
       "      <td>287.0</td>\n",
       "      <td>1.0</td>\n",
       "      <td>225.0</td>\n",
       "      <td>16.0</td>\n",
       "      <td>10.0</td>\n",
       "      <td>14.0</td>\n",
       "    </tr>\n",
       "    <tr>\n",
       "      <th>1</th>\n",
       "      <td>3aa071139cb16b67ca9e5dea641aaa2f</td>\n",
       "      <td>artes</td>\n",
       "      <td>44.0</td>\n",
       "      <td>276.0</td>\n",
       "      <td>1.0</td>\n",
       "      <td>1000.0</td>\n",
       "      <td>30.0</td>\n",
       "      <td>18.0</td>\n",
       "      <td>20.0</td>\n",
       "    </tr>\n",
       "    <tr>\n",
       "      <th>2</th>\n",
       "      <td>96bd76ec8810374ed1b65e291975717f</td>\n",
       "      <td>esporte_lazer</td>\n",
       "      <td>46.0</td>\n",
       "      <td>250.0</td>\n",
       "      <td>1.0</td>\n",
       "      <td>154.0</td>\n",
       "      <td>18.0</td>\n",
       "      <td>9.0</td>\n",
       "      <td>15.0</td>\n",
       "    </tr>\n",
       "    <tr>\n",
       "      <th>3</th>\n",
       "      <td>cef67bcfe19066a932b7673e239eb23d</td>\n",
       "      <td>bebes</td>\n",
       "      <td>27.0</td>\n",
       "      <td>261.0</td>\n",
       "      <td>1.0</td>\n",
       "      <td>371.0</td>\n",
       "      <td>26.0</td>\n",
       "      <td>4.0</td>\n",
       "      <td>26.0</td>\n",
       "    </tr>\n",
       "    <tr>\n",
       "      <th>4</th>\n",
       "      <td>9dc1a7de274444849c219cff195d0b71</td>\n",
       "      <td>utilidades_domesticas</td>\n",
       "      <td>37.0</td>\n",
       "      <td>402.0</td>\n",
       "      <td>4.0</td>\n",
       "      <td>625.0</td>\n",
       "      <td>20.0</td>\n",
       "      <td>17.0</td>\n",
       "      <td>13.0</td>\n",
       "    </tr>\n",
       "    <tr>\n",
       "      <th>...</th>\n",
       "      <td>...</td>\n",
       "      <td>...</td>\n",
       "      <td>...</td>\n",
       "      <td>...</td>\n",
       "      <td>...</td>\n",
       "      <td>...</td>\n",
       "      <td>...</td>\n",
       "      <td>...</td>\n",
       "      <td>...</td>\n",
       "    </tr>\n",
       "    <tr>\n",
       "      <th>32335</th>\n",
       "      <td>a0b7d5a992ccda646f2d34e418fff5a0</td>\n",
       "      <td>moveis_decoracao</td>\n",
       "      <td>45.0</td>\n",
       "      <td>67.0</td>\n",
       "      <td>2.0</td>\n",
       "      <td>12300.0</td>\n",
       "      <td>40.0</td>\n",
       "      <td>40.0</td>\n",
       "      <td>40.0</td>\n",
       "    </tr>\n",
       "    <tr>\n",
       "      <th>32336</th>\n",
       "      <td>bf4538d88321d0fd4412a93c974510e6</td>\n",
       "      <td>construcao_ferramentas_iluminacao</td>\n",
       "      <td>41.0</td>\n",
       "      <td>971.0</td>\n",
       "      <td>1.0</td>\n",
       "      <td>1700.0</td>\n",
       "      <td>16.0</td>\n",
       "      <td>19.0</td>\n",
       "      <td>16.0</td>\n",
       "    </tr>\n",
       "    <tr>\n",
       "      <th>32337</th>\n",
       "      <td>9a7c6041fa9592d9d9ef6cfe62a71f8c</td>\n",
       "      <td>cama_mesa_banho</td>\n",
       "      <td>50.0</td>\n",
       "      <td>799.0</td>\n",
       "      <td>1.0</td>\n",
       "      <td>1400.0</td>\n",
       "      <td>27.0</td>\n",
       "      <td>7.0</td>\n",
       "      <td>27.0</td>\n",
       "    </tr>\n",
       "    <tr>\n",
       "      <th>32338</th>\n",
       "      <td>83808703fc0706a22e264b9d75f04a2e</td>\n",
       "      <td>informatica_acessorios</td>\n",
       "      <td>60.0</td>\n",
       "      <td>156.0</td>\n",
       "      <td>2.0</td>\n",
       "      <td>700.0</td>\n",
       "      <td>31.0</td>\n",
       "      <td>13.0</td>\n",
       "      <td>20.0</td>\n",
       "    </tr>\n",
       "    <tr>\n",
       "      <th>32339</th>\n",
       "      <td>106392145fca363410d287a815be6de4</td>\n",
       "      <td>cama_mesa_banho</td>\n",
       "      <td>58.0</td>\n",
       "      <td>309.0</td>\n",
       "      <td>1.0</td>\n",
       "      <td>2083.0</td>\n",
       "      <td>12.0</td>\n",
       "      <td>2.0</td>\n",
       "      <td>7.0</td>\n",
       "    </tr>\n",
       "  </tbody>\n",
       "</table>\n",
       "<p>32340 rows × 9 columns</p>\n",
       "</div>"
      ],
      "text/plain": [
       "                             product_id              product_category_name  \\\n",
       "0      1e9e8ef04dbcff4541ed26657ea517e5                         perfumaria   \n",
       "1      3aa071139cb16b67ca9e5dea641aaa2f                              artes   \n",
       "2      96bd76ec8810374ed1b65e291975717f                      esporte_lazer   \n",
       "3      cef67bcfe19066a932b7673e239eb23d                              bebes   \n",
       "4      9dc1a7de274444849c219cff195d0b71              utilidades_domesticas   \n",
       "...                                 ...                                ...   \n",
       "32335  a0b7d5a992ccda646f2d34e418fff5a0                   moveis_decoracao   \n",
       "32336  bf4538d88321d0fd4412a93c974510e6  construcao_ferramentas_iluminacao   \n",
       "32337  9a7c6041fa9592d9d9ef6cfe62a71f8c                    cama_mesa_banho   \n",
       "32338  83808703fc0706a22e264b9d75f04a2e             informatica_acessorios   \n",
       "32339  106392145fca363410d287a815be6de4                    cama_mesa_banho   \n",
       "\n",
       "       product_name_len  product_description_len  product_photos_qty  \\\n",
       "0                  40.0                    287.0                 1.0   \n",
       "1                  44.0                    276.0                 1.0   \n",
       "2                  46.0                    250.0                 1.0   \n",
       "3                  27.0                    261.0                 1.0   \n",
       "4                  37.0                    402.0                 4.0   \n",
       "...                 ...                      ...                 ...   \n",
       "32335              45.0                     67.0                 2.0   \n",
       "32336              41.0                    971.0                 1.0   \n",
       "32337              50.0                    799.0                 1.0   \n",
       "32338              60.0                    156.0                 2.0   \n",
       "32339              58.0                    309.0                 1.0   \n",
       "\n",
       "       product_weight_g  product_length_cm  product_height_cm  \\\n",
       "0                 225.0               16.0               10.0   \n",
       "1                1000.0               30.0               18.0   \n",
       "2                 154.0               18.0                9.0   \n",
       "3                 371.0               26.0                4.0   \n",
       "4                 625.0               20.0               17.0   \n",
       "...                 ...                ...                ...   \n",
       "32335           12300.0               40.0               40.0   \n",
       "32336            1700.0               16.0               19.0   \n",
       "32337            1400.0               27.0                7.0   \n",
       "32338             700.0               31.0               13.0   \n",
       "32339            2083.0               12.0                2.0   \n",
       "\n",
       "       product_width_cm  \n",
       "0                  14.0  \n",
       "1                  20.0  \n",
       "2                  15.0  \n",
       "3                  26.0  \n",
       "4                  13.0  \n",
       "...                 ...  \n",
       "32335              40.0  \n",
       "32336              16.0  \n",
       "32337              27.0  \n",
       "32338              20.0  \n",
       "32339               7.0  \n",
       "\n",
       "[32340 rows x 9 columns]"
      ]
     },
     "execution_count": 3,
     "metadata": {},
     "output_type": "execute_result"
    }
   ],
   "source": [
    "import pandas as pd\n",
    "\n",
    "prods_df = pd.read_csv(\"data/ecommerce/product.csv\")\n",
    "prods_df"
   ]
  },
  {
   "cell_type": "code",
   "execution_count": 16,
   "id": "c144fc54",
   "metadata": {},
   "outputs": [
    {
     "name": "stdout",
     "output_type": "stream",
     "text": [
      "Feature Group created successfully, explore it at \n",
      "https://34.34.12.93/p/119/fs/67/fg/20\n"
     ]
    },
    {
     "data": {
      "application/vnd.jupyter.widget-view+json": {
       "model_id": "a61e4c1057ad40b8a43dfc36aea16250",
       "version_major": 2,
       "version_minor": 0
      },
      "text/plain": [
       "Uploading Dataframe: 0.00% |          | Rows 0/112650 | Elapsed Time: 00:00 | Remaining Time: ?"
      ]
     },
     "metadata": {},
     "output_type": "display_data"
    },
    {
     "name": "stdout",
     "output_type": "stream",
     "text": [
      "Launching job: order_item_fg_1_offline_fg_materialization\n",
      "Job started successfully, you can follow the progress at \n",
      "https://34.34.12.93/p/119/jobs/named/order_item_fg_1_offline_fg_materialization/executions\n"
     ]
    },
    {
     "data": {
      "text/plain": [
       "(<hsfs.core.job.Job at 0x7fd91773efb0>, None)"
      ]
     },
     "execution_count": 16,
     "metadata": {},
     "output_type": "execute_result"
    }
   ],
   "source": [
    "order_item_fg = fs.get_or_create_feature_group(\n",
    "    name=\"order_item_fg\",\n",
    "    primary_key=[\"order_id\", \"order_item_id\"],\n",
    "    version=1,\n",
    "    description=\"Order items\",\n",
    "    online_enabled=True\n",
    ")\n",
    "\n",
    "order_item_fg.insert(df)"
   ]
  },
  {
   "cell_type": "code",
   "execution_count": 5,
   "id": "b103ab4f",
   "metadata": {},
   "outputs": [
    {
     "data": {
      "application/vnd.jupyter.widget-view+json": {
       "model_id": "7fd1b7be87164cb6921b34353c14200a",
       "version_major": 2,
       "version_minor": 0
      },
      "text/plain": [
       "Uploading Dataframe: 0.00% |          | Rows 0/32340 | Elapsed Time: 00:00 | Remaining Time: ?"
      ]
     },
     "metadata": {},
     "output_type": "display_data"
    },
    {
     "name": "stdout",
     "output_type": "stream",
     "text": [
      "Launching job: product_fg_1_offline_fg_materialization\n",
      "Job started successfully, you can follow the progress at \n",
      "https://34.34.12.93/p/119/jobs/named/product_fg_1_offline_fg_materialization/executions\n"
     ]
    },
    {
     "data": {
      "text/plain": [
       "(<hsfs.core.job.Job at 0x7fd98755f5e0>, None)"
      ]
     },
     "execution_count": 5,
     "metadata": {},
     "output_type": "execute_result"
    }
   ],
   "source": [
    "product_fg = fs.get_or_create_feature_group(\n",
    "    name=\"product_fg\",\n",
    "    primary_key=[\"product_id\"],\n",
    "    version=1,\n",
    "    description=\"Product details\",\n",
    "    online_enabled=True\n",
    ")\n",
    "\n",
    "product_fg.insert(prods_df)"
   ]
  },
  {
   "cell_type": "markdown",
   "id": "7f708980",
   "metadata": {},
   "source": [
    "### You need your own Hopsworks Cluster for this part"
   ]
  },
  {
   "cell_type": "markdown",
   "id": "1eb86bf5",
   "metadata": {},
   "source": [
    "## Create Embeddings for Products"
   ]
  },
  {
   "cell_type": "code",
   "execution_count": 6,
   "id": "7697aa23",
   "metadata": {},
   "outputs": [
    {
     "name": "stdout",
     "output_type": "stream",
     "text": [
      "2023-12-15 14:28:34,853 INFO: Load pretrained SentenceTransformer: all-MiniLM-L6-v2\n"
     ]
    },
    {
     "data": {
      "application/vnd.jupyter.widget-view+json": {
       "model_id": "b325caf3817d4d26a8e9a785c7fb88c6",
       "version_major": 2,
       "version_minor": 0
      },
      "text/plain": [
       "Downloading .gitattributes:   0%|          | 0.00/1.18k [00:00<?, ?B/s]"
      ]
     },
     "metadata": {},
     "output_type": "display_data"
    },
    {
     "data": {
      "application/vnd.jupyter.widget-view+json": {
       "model_id": "46dd1ac3a1a04bb293f1b509d7f8a2d3",
       "version_major": 2,
       "version_minor": 0
      },
      "text/plain": [
       "Downloading 1_Pooling/config.json:   0%|          | 0.00/190 [00:00<?, ?B/s]"
      ]
     },
     "metadata": {},
     "output_type": "display_data"
    },
    {
     "data": {
      "application/vnd.jupyter.widget-view+json": {
       "model_id": "c82599948b164bc6bbcfe6ba32d0d0f8",
       "version_major": 2,
       "version_minor": 0
      },
      "text/plain": [
       "Downloading README.md:   0%|          | 0.00/10.6k [00:00<?, ?B/s]"
      ]
     },
     "metadata": {},
     "output_type": "display_data"
    },
    {
     "data": {
      "application/vnd.jupyter.widget-view+json": {
       "model_id": "0b44f9cee7d34dc0808b6b28e1cd4853",
       "version_major": 2,
       "version_minor": 0
      },
      "text/plain": [
       "Downloading config.json:   0%|          | 0.00/612 [00:00<?, ?B/s]"
      ]
     },
     "metadata": {},
     "output_type": "display_data"
    },
    {
     "data": {
      "application/vnd.jupyter.widget-view+json": {
       "model_id": "0dc79f5812914412938697903c6769f2",
       "version_major": 2,
       "version_minor": 0
      },
      "text/plain": [
       "Downloading (…)ce_transformers.json:   0%|          | 0.00/116 [00:00<?, ?B/s]"
      ]
     },
     "metadata": {},
     "output_type": "display_data"
    },
    {
     "data": {
      "application/vnd.jupyter.widget-view+json": {
       "model_id": "750cc381b5e2484a8e48802a4d4aa629",
       "version_major": 2,
       "version_minor": 0
      },
      "text/plain": [
       "Downloading data_config.json:   0%|          | 0.00/39.3k [00:00<?, ?B/s]"
      ]
     },
     "metadata": {},
     "output_type": "display_data"
    },
    {
     "data": {
      "application/vnd.jupyter.widget-view+json": {
       "model_id": "c9ec34739b334176afda99ddd462ee4a",
       "version_major": 2,
       "version_minor": 0
      },
      "text/plain": [
       "Downloading pytorch_model.bin:   0%|          | 0.00/90.9M [00:00<?, ?B/s]"
      ]
     },
     "metadata": {},
     "output_type": "display_data"
    },
    {
     "data": {
      "application/vnd.jupyter.widget-view+json": {
       "model_id": "2eec4e970b3541d1bf377ace47ee1aa2",
       "version_major": 2,
       "version_minor": 0
      },
      "text/plain": [
       "Downloading (…)nce_bert_config.json:   0%|          | 0.00/53.0 [00:00<?, ?B/s]"
      ]
     },
     "metadata": {},
     "output_type": "display_data"
    },
    {
     "data": {
      "application/vnd.jupyter.widget-view+json": {
       "model_id": "612619681bf1499aa2624cbef0bd523f",
       "version_major": 2,
       "version_minor": 0
      },
      "text/plain": [
       "Downloading (…)cial_tokens_map.json:   0%|          | 0.00/112 [00:00<?, ?B/s]"
      ]
     },
     "metadata": {},
     "output_type": "display_data"
    },
    {
     "data": {
      "application/vnd.jupyter.widget-view+json": {
       "model_id": "ddaab3db6b0b4359b3879dfccd24ab75",
       "version_major": 2,
       "version_minor": 0
      },
      "text/plain": [
       "Downloading tokenizer.json:   0%|          | 0.00/466k [00:00<?, ?B/s]"
      ]
     },
     "metadata": {},
     "output_type": "display_data"
    },
    {
     "data": {
      "application/vnd.jupyter.widget-view+json": {
       "model_id": "a5fc79430a26490f88f3217fb4c33626",
       "version_major": 2,
       "version_minor": 0
      },
      "text/plain": [
       "Downloading tokenizer_config.json:   0%|          | 0.00/350 [00:00<?, ?B/s]"
      ]
     },
     "metadata": {},
     "output_type": "display_data"
    },
    {
     "data": {
      "application/vnd.jupyter.widget-view+json": {
       "model_id": "9f1aa83a4f1d486fb3352357e2881530",
       "version_major": 2,
       "version_minor": 0
      },
      "text/plain": [
       "Downloading train_script.py:   0%|          | 0.00/13.2k [00:00<?, ?B/s]"
      ]
     },
     "metadata": {},
     "output_type": "display_data"
    },
    {
     "data": {
      "application/vnd.jupyter.widget-view+json": {
       "model_id": "e0a75d11444642969d092929e43fa76f",
       "version_major": 2,
       "version_minor": 0
      },
      "text/plain": [
       "Downloading vocab.txt:   0%|          | 0.00/232k [00:00<?, ?B/s]"
      ]
     },
     "metadata": {},
     "output_type": "display_data"
    },
    {
     "data": {
      "application/vnd.jupyter.widget-view+json": {
       "model_id": "3eb3057380b240198a0a9fcad7d9067e",
       "version_major": 2,
       "version_minor": 0
      },
      "text/plain": [
       "Downloading modules.json:   0%|          | 0.00/349 [00:00<?, ?B/s]"
      ]
     },
     "metadata": {},
     "output_type": "display_data"
    },
    {
     "name": "stdout",
     "output_type": "stream",
     "text": [
      "2023-12-15 14:28:45,559 INFO: Use pytorch device: cuda\n"
     ]
    }
   ],
   "source": [
    "from sentence_transformers import SentenceTransformer\n",
    "model = SentenceTransformer('all-MiniLM-L6-v2')"
   ]
  },
  {
   "cell_type": "code",
   "execution_count": 7,
   "id": "644b0c5f",
   "metadata": {},
   "outputs": [],
   "source": [
    "product_ids, products_info = [], []\n",
    "for index, row in df.iterrows():\n",
    "    product_ids.append(row[\"product_id\"])\n",
    "    products_info.append(row.to_string().replace(\"   \", \"\").replace(\"\\n\", \", \"))"
   ]
  },
  {
   "cell_type": "code",
   "execution_count": 8,
   "id": "d7d4e982",
   "metadata": {},
   "outputs": [
    {
     "data": {
      "text/plain": [
       "'order_id00010242fe8c5a6d1ba2dd792cb16214, order_item_id  1, product_id 4244733e06e7ecb4970a6e2683c13e61, seller_id  48436dade18ac8b2bce089ec2a041202, shipping_limit_date  2017-09-19 09:45:35, price 58.9, freight_value 13.29'"
      ]
     },
     "execution_count": 8,
     "metadata": {},
     "output_type": "execute_result"
    }
   ],
   "source": [
    "products_info[0]"
   ]
  },
  {
   "cell_type": "code",
   "execution_count": 9,
   "id": "b88f33c0",
   "metadata": {},
   "outputs": [
    {
     "data": {
      "application/vnd.jupyter.widget-view+json": {
       "model_id": "41611caacabf415390901631df851dab",
       "version_major": 2,
       "version_minor": 0
      },
      "text/plain": [
       "Batches:   0%|          | 0/3521 [00:00<?, ?it/s]"
      ]
     },
     "metadata": {},
     "output_type": "display_data"
    }
   ],
   "source": [
    "embeddings = model.encode(products_info)"
   ]
  },
  {
   "cell_type": "markdown",
   "id": "7df6d7ec",
   "metadata": {},
   "source": [
    "## Insert Embeddings into Vector DB"
   ]
  },
  {
   "cell_type": "code",
   "execution_count": 10,
   "id": "84f96ebc",
   "metadata": {},
   "outputs": [],
   "source": [
    "from opensearchpy import OpenSearch\n",
    "\n",
    "opensearch_api = proj.get_opensearch_api()\n",
    "client = OpenSearch(**opensearch_api.get_default_py_config())"
   ]
  },
  {
   "cell_type": "code",
   "execution_count": 11,
   "id": "22df667f",
   "metadata": {},
   "outputs": [],
   "source": [
    "index_name = opensearch_api.get_project_index(\"products_index\")\n",
    "emb_dim = 384"
   ]
  },
  {
   "cell_type": "code",
   "execution_count": 12,
   "id": "700ffdc6",
   "metadata": {},
   "outputs": [
    {
     "name": "stdout",
     "output_type": "stream",
     "text": [
      "2023-12-15 14:31:49,600 INFO: PUT https://10.164.15.201:9200/pydata_products_index [status:200 request:0.122s]\n",
      "{'acknowledged': True, 'shards_acknowledged': True, 'index': 'pydata_products_index'}\n"
     ]
    },
    {
     "name": "stderr",
     "output_type": "stream",
     "text": [
      "DeprecationWarning: HTTPResponse.getheaders() is deprecated and will be removed in urllib3 v2.1.0. Instead access HTTPResponse.headers directly.\n"
     ]
    }
   ],
   "source": [
    "# Dimensionality of candidate embeddings.\n",
    "\n",
    "index_body = {\n",
    "    \"settings\": {\n",
    "        \"knn\": True,\n",
    "        \"knn.algo_param.ef_search\": 100,\n",
    "    },\n",
    "    \"mappings\": {\n",
    "        \"properties\": {\n",
    "            \"my_vector1\": {\n",
    "                \"type\": \"knn_vector\",\n",
    "                \"dimension\": emb_dim,\n",
    "                \"method\": {\n",
    "                    \"name\": \"hnsw\",\n",
    "                    \"space_type\": \"innerproduct\",\n",
    "                    \"engine\": \"faiss\",\n",
    "                    \"parameters\": {\n",
    "                        \"ef_construction\": 256,\n",
    "                        \"m\": 48\n",
    "                    }\n",
    "                }\n",
    "            }\n",
    "        }\n",
    "    }\n",
    "}\n",
    "\n",
    "response = client.indices.create(index_name, body=index_body)\n",
    "print(response)"
   ]
  },
  {
   "cell_type": "code",
   "execution_count": 13,
   "id": "916d7618",
   "metadata": {},
   "outputs": [],
   "source": [
    "from opensearchpy.helpers import bulk\n",
    "import numpy as np\n",
    "\n",
    "actions = []\n",
    "for product_id, embedding in zip(product_ids, embeddings):    \n",
    "    actions.append({\n",
    "        \"_index\": index_name,\n",
    "        \"_id\": product_id,\n",
    "        \"_source\": {\n",
    "            \"my_vector1\": embedding,\n",
    "        }\n",
    "    })"
   ]
  },
  {
   "cell_type": "code",
   "execution_count": 14,
   "id": "513bf3f8",
   "metadata": {},
   "outputs": [
    {
     "name": "stdout",
     "output_type": "stream",
     "text": [
      "2023-12-15 14:31:50,510 INFO: POST https://10.164.15.201:9200/_bulk [status:200 request:0.351s]\n",
      "2023-12-15 14:31:50,947 INFO: POST https://10.164.15.201:9200/_bulk [status:200 request:0.274s]\n",
      "2023-12-15 14:31:51,378 INFO: POST https://10.164.15.201:9200/_bulk [status:200 request:0.267s]\n",
      "2023-12-15 14:31:51,790 INFO: POST https://10.164.15.201:9200/_bulk [status:200 request:0.250s]\n",
      "2023-12-15 14:31:52,231 INFO: POST https://10.164.15.201:9200/_bulk [status:200 request:0.267s]\n",
      "2023-12-15 14:31:52,655 INFO: POST https://10.164.15.201:9200/_bulk [status:200 request:0.244s]\n",
      "2023-12-15 14:31:53,077 INFO: POST https://10.164.15.201:9200/_bulk [status:200 request:0.261s]\n",
      "2023-12-15 14:31:53,495 INFO: POST https://10.164.15.201:9200/_bulk [status:200 request:0.262s]\n",
      "2023-12-15 14:31:53,922 INFO: POST https://10.164.15.201:9200/_bulk [status:200 request:0.265s]\n",
      "2023-12-15 14:31:54,340 INFO: POST https://10.164.15.201:9200/_bulk [status:200 request:0.256s]\n",
      "2023-12-15 14:31:54,767 INFO: POST https://10.164.15.201:9200/_bulk [status:200 request:0.250s]\n",
      "2023-12-15 14:31:55,186 INFO: POST https://10.164.15.201:9200/_bulk [status:200 request:0.256s]\n",
      "2023-12-15 14:31:55,610 INFO: POST https://10.164.15.201:9200/_bulk [status:200 request:0.265s]\n",
      "2023-12-15 14:31:56,035 INFO: POST https://10.164.15.201:9200/_bulk [status:200 request:0.261s]\n",
      "2023-12-15 14:31:56,457 INFO: POST https://10.164.15.201:9200/_bulk [status:200 request:0.248s]\n",
      "2023-12-15 14:31:56,872 INFO: POST https://10.164.15.201:9200/_bulk [status:200 request:0.250s]\n",
      "2023-12-15 14:31:57,278 INFO: POST https://10.164.15.201:9200/_bulk [status:200 request:0.251s]\n",
      "2023-12-15 14:31:57,679 INFO: POST https://10.164.15.201:9200/_bulk [status:200 request:0.251s]\n",
      "2023-12-15 14:31:58,102 INFO: POST https://10.164.15.201:9200/_bulk [status:200 request:0.263s]\n",
      "2023-12-15 14:31:58,540 INFO: POST https://10.164.15.201:9200/_bulk [status:200 request:0.277s]\n",
      "2023-12-15 14:31:58,950 INFO: POST https://10.164.15.201:9200/_bulk [status:200 request:0.255s]\n",
      "2023-12-15 14:31:59,402 INFO: POST https://10.164.15.201:9200/_bulk [status:200 request:0.277s]\n",
      "2023-12-15 14:31:59,803 INFO: POST https://10.164.15.201:9200/_bulk [status:200 request:0.241s]\n",
      "2023-12-15 14:32:00,238 INFO: POST https://10.164.15.201:9200/_bulk [status:200 request:0.273s]\n",
      "2023-12-15 14:32:00,657 INFO: POST https://10.164.15.201:9200/_bulk [status:200 request:0.257s]\n",
      "2023-12-15 14:32:01,093 INFO: POST https://10.164.15.201:9200/_bulk [status:200 request:0.272s]\n",
      "2023-12-15 14:32:01,521 INFO: POST https://10.164.15.201:9200/_bulk [status:200 request:0.258s]\n",
      "2023-12-15 14:32:01,959 INFO: POST https://10.164.15.201:9200/_bulk [status:200 request:0.279s]\n",
      "2023-12-15 14:32:02,394 INFO: POST https://10.164.15.201:9200/_bulk [status:200 request:0.267s]\n",
      "2023-12-15 14:32:02,823 INFO: POST https://10.164.15.201:9200/_bulk [status:200 request:0.258s]\n",
      "2023-12-15 14:32:03,239 INFO: POST https://10.164.15.201:9200/_bulk [status:200 request:0.258s]\n",
      "2023-12-15 14:32:03,642 INFO: POST https://10.164.15.201:9200/_bulk [status:200 request:0.247s]\n",
      "2023-12-15 14:32:04,058 INFO: POST https://10.164.15.201:9200/_bulk [status:200 request:0.254s]\n",
      "2023-12-15 14:32:04,477 INFO: POST https://10.164.15.201:9200/_bulk [status:200 request:0.258s]\n",
      "2023-12-15 14:32:04,899 INFO: POST https://10.164.15.201:9200/_bulk [status:200 request:0.261s]\n",
      "2023-12-15 14:32:05,319 INFO: POST https://10.164.15.201:9200/_bulk [status:200 request:0.252s]\n",
      "2023-12-15 14:32:05,733 INFO: POST https://10.164.15.201:9200/_bulk [status:200 request:0.252s]\n",
      "2023-12-15 14:32:06,141 INFO: POST https://10.164.15.201:9200/_bulk [status:200 request:0.254s]\n",
      "2023-12-15 14:32:06,545 INFO: POST https://10.164.15.201:9200/_bulk [status:200 request:0.244s]\n",
      "2023-12-15 14:32:06,961 INFO: POST https://10.164.15.201:9200/_bulk [status:200 request:0.257s]\n",
      "2023-12-15 14:32:07,376 INFO: POST https://10.164.15.201:9200/_bulk [status:200 request:0.248s]\n",
      "2023-12-15 14:32:07,777 INFO: POST https://10.164.15.201:9200/_bulk [status:200 request:0.248s]\n",
      "2023-12-15 14:32:08,192 INFO: POST https://10.164.15.201:9200/_bulk [status:200 request:0.258s]\n",
      "2023-12-15 14:32:08,589 INFO: POST https://10.164.15.201:9200/_bulk [status:200 request:0.240s]\n",
      "2023-12-15 14:32:09,010 INFO: POST https://10.164.15.201:9200/_bulk [status:200 request:0.268s]\n",
      "2023-12-15 14:32:09,585 INFO: POST https://10.164.15.201:9200/_bulk [status:200 request:0.389s]\n",
      "2023-12-15 14:32:10,014 INFO: POST https://10.164.15.201:9200/_bulk [status:200 request:0.262s]\n",
      "2023-12-15 14:32:10,460 INFO: POST https://10.164.15.201:9200/_bulk [status:200 request:0.275s]\n",
      "2023-12-15 14:32:10,889 INFO: POST https://10.164.15.201:9200/_bulk [status:200 request:0.243s]\n",
      "2023-12-15 14:32:11,328 INFO: POST https://10.164.15.201:9200/_bulk [status:200 request:0.269s]\n",
      "2023-12-15 14:32:11,779 INFO: POST https://10.164.15.201:9200/_bulk [status:200 request:0.289s]\n",
      "2023-12-15 14:32:12,223 INFO: POST https://10.164.15.201:9200/_bulk [status:200 request:0.281s]\n",
      "2023-12-15 14:32:12,643 INFO: POST https://10.164.15.201:9200/_bulk [status:200 request:0.249s]\n",
      "2023-12-15 14:32:13,055 INFO: POST https://10.164.15.201:9200/_bulk [status:200 request:0.258s]\n",
      "2023-12-15 14:32:13,463 INFO: POST https://10.164.15.201:9200/_bulk [status:200 request:0.246s]\n",
      "2023-12-15 14:32:13,879 INFO: POST https://10.164.15.201:9200/_bulk [status:200 request:0.255s]\n",
      "2023-12-15 14:32:14,306 INFO: POST https://10.164.15.201:9200/_bulk [status:200 request:0.261s]\n",
      "2023-12-15 14:32:14,727 INFO: POST https://10.164.15.201:9200/_bulk [status:200 request:0.252s]\n",
      "2023-12-15 14:32:15,163 INFO: POST https://10.164.15.201:9200/_bulk [status:200 request:0.270s]\n",
      "2023-12-15 14:32:15,607 INFO: POST https://10.164.15.201:9200/_bulk [status:200 request:0.253s]\n",
      "2023-12-15 14:32:16,025 INFO: POST https://10.164.15.201:9200/_bulk [status:200 request:0.251s]\n",
      "2023-12-15 14:32:16,452 INFO: POST https://10.164.15.201:9200/_bulk [status:200 request:0.262s]\n",
      "2023-12-15 14:32:16,866 INFO: POST https://10.164.15.201:9200/_bulk [status:200 request:0.244s]\n",
      "2023-12-15 14:32:17,293 INFO: POST https://10.164.15.201:9200/_bulk [status:200 request:0.264s]\n",
      "2023-12-15 14:32:17,728 INFO: POST https://10.164.15.201:9200/_bulk [status:200 request:0.261s]\n",
      "2023-12-15 14:32:18,149 INFO: POST https://10.164.15.201:9200/_bulk [status:200 request:0.254s]\n",
      "2023-12-15 14:32:18,568 INFO: POST https://10.164.15.201:9200/_bulk [status:200 request:0.252s]\n",
      "2023-12-15 14:32:19,010 INFO: POST https://10.164.15.201:9200/_bulk [status:200 request:0.277s]\n",
      "2023-12-15 14:32:19,426 INFO: POST https://10.164.15.201:9200/_bulk [status:200 request:0.253s]\n",
      "2023-12-15 14:32:19,839 INFO: POST https://10.164.15.201:9200/_bulk [status:200 request:0.252s]\n",
      "2023-12-15 14:32:20,267 INFO: POST https://10.164.15.201:9200/_bulk [status:200 request:0.259s]\n",
      "2023-12-15 14:32:20,701 INFO: POST https://10.164.15.201:9200/_bulk [status:200 request:0.274s]\n",
      "2023-12-15 14:32:21,130 INFO: POST https://10.164.15.201:9200/_bulk [status:200 request:0.248s]\n",
      "2023-12-15 14:32:21,554 INFO: POST https://10.164.15.201:9200/_bulk [status:200 request:0.261s]\n",
      "2023-12-15 14:32:22,040 INFO: POST https://10.164.15.201:9200/_bulk [status:200 request:0.301s]\n",
      "2023-12-15 14:32:22,493 INFO: POST https://10.164.15.201:9200/_bulk [status:200 request:0.267s]\n",
      "2023-12-15 14:32:22,938 INFO: POST https://10.164.15.201:9200/_bulk [status:200 request:0.282s]\n",
      "2023-12-15 14:32:23,387 INFO: POST https://10.164.15.201:9200/_bulk [status:200 request:0.270s]\n",
      "2023-12-15 14:32:23,812 INFO: POST https://10.164.15.201:9200/_bulk [status:200 request:0.252s]\n",
      "2023-12-15 14:32:24,238 INFO: POST https://10.164.15.201:9200/_bulk [status:200 request:0.261s]\n",
      "2023-12-15 14:32:24,663 INFO: POST https://10.164.15.201:9200/_bulk [status:200 request:0.263s]\n",
      "2023-12-15 14:32:25,095 INFO: POST https://10.164.15.201:9200/_bulk [status:200 request:0.264s]\n",
      "2023-12-15 14:32:25,527 INFO: POST https://10.164.15.201:9200/_bulk [status:200 request:0.265s]\n",
      "2023-12-15 14:32:25,959 INFO: POST https://10.164.15.201:9200/_bulk [status:200 request:0.254s]\n",
      "2023-12-15 14:32:26,370 INFO: POST https://10.164.15.201:9200/_bulk [status:200 request:0.254s]\n",
      "2023-12-15 14:32:26,791 INFO: POST https://10.164.15.201:9200/_bulk [status:200 request:0.261s]\n",
      "2023-12-15 14:32:27,210 INFO: POST https://10.164.15.201:9200/_bulk [status:200 request:0.256s]\n",
      "2023-12-15 14:32:27,631 INFO: POST https://10.164.15.201:9200/_bulk [status:200 request:0.259s]\n",
      "2023-12-15 14:32:28,047 INFO: POST https://10.164.15.201:9200/_bulk [status:200 request:0.257s]\n",
      "2023-12-15 14:32:28,469 INFO: POST https://10.164.15.201:9200/_bulk [status:200 request:0.245s]\n",
      "2023-12-15 14:32:28,906 INFO: POST https://10.164.15.201:9200/_bulk [status:200 request:0.273s]\n",
      "2023-12-15 14:32:29,334 INFO: POST https://10.164.15.201:9200/_bulk [status:200 request:0.257s]\n",
      "2023-12-15 14:32:29,751 INFO: POST https://10.164.15.201:9200/_bulk [status:200 request:0.250s]\n",
      "2023-12-15 14:32:30,168 INFO: POST https://10.164.15.201:9200/_bulk [status:200 request:0.256s]\n",
      "2023-12-15 14:32:30,578 INFO: POST https://10.164.15.201:9200/_bulk [status:200 request:0.246s]\n",
      "2023-12-15 14:32:30,996 INFO: POST https://10.164.15.201:9200/_bulk [status:200 request:0.257s]\n",
      "2023-12-15 14:32:31,409 INFO: POST https://10.164.15.201:9200/_bulk [status:200 request:0.252s]\n",
      "2023-12-15 14:32:31,858 INFO: POST https://10.164.15.201:9200/_bulk [status:200 request:0.262s]\n",
      "2023-12-15 14:32:32,338 INFO: POST https://10.164.15.201:9200/_bulk [status:200 request:0.285s]\n",
      "2023-12-15 14:32:32,755 INFO: POST https://10.164.15.201:9200/_bulk [status:200 request:0.250s]\n",
      "2023-12-15 14:32:33,189 INFO: POST https://10.164.15.201:9200/_bulk [status:200 request:0.270s]\n",
      "2023-12-15 14:32:33,607 INFO: POST https://10.164.15.201:9200/_bulk [status:200 request:0.253s]\n",
      "2023-12-15 14:32:34,028 INFO: POST https://10.164.15.201:9200/_bulk [status:200 request:0.259s]\n",
      "2023-12-15 14:32:34,449 INFO: POST https://10.164.15.201:9200/_bulk [status:200 request:0.261s]\n",
      "2023-12-15 14:32:34,853 INFO: POST https://10.164.15.201:9200/_bulk [status:200 request:0.247s]\n",
      "2023-12-15 14:32:35,598 INFO: POST https://10.164.15.201:9200/_bulk [status:200 request:0.268s]\n",
      "2023-12-15 14:32:36,015 INFO: POST https://10.164.15.201:9200/_bulk [status:200 request:0.255s]\n",
      "2023-12-15 14:32:36,430 INFO: POST https://10.164.15.201:9200/_bulk [status:200 request:0.253s]\n",
      "2023-12-15 14:32:36,891 INFO: POST https://10.164.15.201:9200/_bulk [status:200 request:0.300s]\n",
      "2023-12-15 14:32:37,351 INFO: POST https://10.164.15.201:9200/_bulk [status:200 request:0.291s]\n",
      "2023-12-15 14:32:37,752 INFO: POST https://10.164.15.201:9200/_bulk [status:200 request:0.242s]\n",
      "2023-12-15 14:32:38,162 INFO: POST https://10.164.15.201:9200/_bulk [status:200 request:0.249s]\n",
      "2023-12-15 14:32:38,582 INFO: POST https://10.164.15.201:9200/_bulk [status:200 request:0.257s]\n",
      "2023-12-15 14:32:39,008 INFO: POST https://10.164.15.201:9200/_bulk [status:200 request:0.269s]\n",
      "2023-12-15 14:32:39,431 INFO: POST https://10.164.15.201:9200/_bulk [status:200 request:0.254s]\n",
      "2023-12-15 14:32:39,837 INFO: POST https://10.164.15.201:9200/_bulk [status:200 request:0.247s]\n",
      "2023-12-15 14:32:40,255 INFO: POST https://10.164.15.201:9200/_bulk [status:200 request:0.252s]\n",
      "2023-12-15 14:32:40,668 INFO: POST https://10.164.15.201:9200/_bulk [status:200 request:0.248s]\n",
      "2023-12-15 14:32:41,086 INFO: POST https://10.164.15.201:9200/_bulk [status:200 request:0.259s]\n",
      "2023-12-15 14:32:41,523 INFO: POST https://10.164.15.201:9200/_bulk [status:200 request:0.273s]\n",
      "2023-12-15 14:32:41,962 INFO: POST https://10.164.15.201:9200/_bulk [status:200 request:0.274s]\n",
      "2023-12-15 14:32:42,392 INFO: POST https://10.164.15.201:9200/_bulk [status:200 request:0.257s]\n",
      "2023-12-15 14:32:42,860 INFO: POST https://10.164.15.201:9200/_bulk [status:200 request:0.313s]\n",
      "2023-12-15 14:32:43,343 INFO: POST https://10.164.15.201:9200/_bulk [status:200 request:0.302s]\n",
      "2023-12-15 14:32:43,759 INFO: POST https://10.164.15.201:9200/_bulk [status:200 request:0.249s]\n",
      "2023-12-15 14:32:44,241 INFO: POST https://10.164.15.201:9200/_bulk [status:200 request:0.302s]\n",
      "2023-12-15 14:32:44,693 INFO: POST https://10.164.15.201:9200/_bulk [status:200 request:0.271s]\n",
      "2023-12-15 14:32:45,131 INFO: POST https://10.164.15.201:9200/_bulk [status:200 request:0.263s]\n",
      "2023-12-15 14:32:45,586 INFO: POST https://10.164.15.201:9200/_bulk [status:200 request:0.281s]\n",
      "2023-12-15 14:32:45,997 INFO: POST https://10.164.15.201:9200/_bulk [status:200 request:0.250s]\n",
      "2023-12-15 14:32:46,412 INFO: POST https://10.164.15.201:9200/_bulk [status:200 request:0.253s]\n",
      "2023-12-15 14:32:46,828 INFO: POST https://10.164.15.201:9200/_bulk [status:200 request:0.253s]\n",
      "2023-12-15 14:32:47,239 INFO: POST https://10.164.15.201:9200/_bulk [status:200 request:0.252s]\n",
      "2023-12-15 14:32:47,678 INFO: POST https://10.164.15.201:9200/_bulk [status:200 request:0.268s]\n",
      "2023-12-15 14:32:48,092 INFO: POST https://10.164.15.201:9200/_bulk [status:200 request:0.247s]\n",
      "2023-12-15 14:32:48,517 INFO: POST https://10.164.15.201:9200/_bulk [status:200 request:0.269s]\n",
      "2023-12-15 14:32:48,948 INFO: POST https://10.164.15.201:9200/_bulk [status:200 request:0.268s]\n",
      "2023-12-15 14:32:49,380 INFO: POST https://10.164.15.201:9200/_bulk [status:200 request:0.261s]\n",
      "2023-12-15 14:32:49,821 INFO: POST https://10.164.15.201:9200/_bulk [status:200 request:0.265s]\n",
      "2023-12-15 14:32:50,247 INFO: POST https://10.164.15.201:9200/_bulk [status:200 request:0.253s]\n",
      "2023-12-15 14:32:50,676 INFO: POST https://10.164.15.201:9200/_bulk [status:200 request:0.257s]\n",
      "2023-12-15 14:32:51,095 INFO: POST https://10.164.15.201:9200/_bulk [status:200 request:0.252s]\n",
      "2023-12-15 14:32:51,518 INFO: POST https://10.164.15.201:9200/_bulk [status:200 request:0.254s]\n",
      "2023-12-15 14:32:51,925 INFO: POST https://10.164.15.201:9200/_bulk [status:200 request:0.248s]\n",
      "2023-12-15 14:32:52,373 INFO: POST https://10.164.15.201:9200/_bulk [status:200 request:0.277s]\n",
      "2023-12-15 14:32:52,977 INFO: POST https://10.164.15.201:9200/_bulk [status:200 request:0.433s]\n",
      "2023-12-15 14:32:53,427 INFO: POST https://10.164.15.201:9200/_bulk [status:200 request:0.270s]\n",
      "2023-12-15 14:32:53,841 INFO: POST https://10.164.15.201:9200/_bulk [status:200 request:0.251s]\n",
      "2023-12-15 14:32:54,279 INFO: POST https://10.164.15.201:9200/_bulk [status:200 request:0.265s]\n",
      "2023-12-15 14:32:54,733 INFO: POST https://10.164.15.201:9200/_bulk [status:200 request:0.254s]\n",
      "2023-12-15 14:32:55,150 INFO: POST https://10.164.15.201:9200/_bulk [status:200 request:0.253s]\n",
      "2023-12-15 14:32:55,613 INFO: POST https://10.164.15.201:9200/_bulk [status:200 request:0.288s]\n",
      "2023-12-15 14:32:56,029 INFO: POST https://10.164.15.201:9200/_bulk [status:200 request:0.258s]\n",
      "2023-12-15 14:32:56,442 INFO: POST https://10.164.15.201:9200/_bulk [status:200 request:0.249s]\n",
      "2023-12-15 14:32:56,843 INFO: POST https://10.164.15.201:9200/_bulk [status:200 request:0.240s]\n",
      "2023-12-15 14:32:57,256 INFO: POST https://10.164.15.201:9200/_bulk [status:200 request:0.253s]\n",
      "2023-12-15 14:32:57,661 INFO: POST https://10.164.15.201:9200/_bulk [status:200 request:0.246s]\n",
      "2023-12-15 14:32:58,096 INFO: POST https://10.164.15.201:9200/_bulk [status:200 request:0.271s]\n",
      "2023-12-15 14:32:58,510 INFO: POST https://10.164.15.201:9200/_bulk [status:200 request:0.253s]\n",
      "2023-12-15 14:32:58,929 INFO: POST https://10.164.15.201:9200/_bulk [status:200 request:0.249s]\n",
      "2023-12-15 14:32:59,338 INFO: POST https://10.164.15.201:9200/_bulk [status:200 request:0.249s]\n",
      "2023-12-15 14:32:59,735 INFO: POST https://10.164.15.201:9200/_bulk [status:200 request:0.240s]\n",
      "2023-12-15 14:33:00,157 INFO: POST https://10.164.15.201:9200/_bulk [status:200 request:0.254s]\n",
      "2023-12-15 14:33:00,596 INFO: POST https://10.164.15.201:9200/_bulk [status:200 request:0.275s]\n",
      "2023-12-15 14:33:01,024 INFO: POST https://10.164.15.201:9200/_bulk [status:200 request:0.260s]\n",
      "2023-12-15 14:33:01,438 INFO: POST https://10.164.15.201:9200/_bulk [status:200 request:0.247s]\n",
      "2023-12-15 14:33:01,895 INFO: POST https://10.164.15.201:9200/_bulk [status:200 request:0.293s]\n",
      "2023-12-15 14:33:02,335 INFO: POST https://10.164.15.201:9200/_bulk [status:200 request:0.276s]\n",
      "2023-12-15 14:33:02,760 INFO: POST https://10.164.15.201:9200/_bulk [status:200 request:0.249s]\n",
      "2023-12-15 14:33:03,191 INFO: POST https://10.164.15.201:9200/_bulk [status:200 request:0.261s]\n",
      "2023-12-15 14:33:03,603 INFO: POST https://10.164.15.201:9200/_bulk [status:200 request:0.249s]\n",
      "2023-12-15 14:33:04,022 INFO: POST https://10.164.15.201:9200/_bulk [status:200 request:0.263s]\n",
      "2023-12-15 14:33:04,447 INFO: POST https://10.164.15.201:9200/_bulk [status:200 request:0.271s]\n",
      "2023-12-15 14:33:04,850 INFO: POST https://10.164.15.201:9200/_bulk [status:200 request:0.243s]\n",
      "2023-12-15 14:33:05,266 INFO: POST https://10.164.15.201:9200/_bulk [status:200 request:0.256s]\n",
      "2023-12-15 14:33:05,731 INFO: POST https://10.164.15.201:9200/_bulk [status:200 request:0.296s]\n",
      "2023-12-15 14:33:06,154 INFO: POST https://10.164.15.201:9200/_bulk [status:200 request:0.255s]\n",
      "2023-12-15 14:33:06,582 INFO: POST https://10.164.15.201:9200/_bulk [status:200 request:0.268s]\n",
      "2023-12-15 14:33:06,976 INFO: POST https://10.164.15.201:9200/_bulk [status:200 request:0.239s]\n",
      "2023-12-15 14:33:07,376 INFO: POST https://10.164.15.201:9200/_bulk [status:200 request:0.245s]\n",
      "2023-12-15 14:33:07,781 INFO: POST https://10.164.15.201:9200/_bulk [status:200 request:0.248s]\n",
      "2023-12-15 14:33:08,197 INFO: POST https://10.164.15.201:9200/_bulk [status:200 request:0.258s]\n",
      "2023-12-15 14:33:08,644 INFO: POST https://10.164.15.201:9200/_bulk [status:200 request:0.285s]\n",
      "2023-12-15 14:33:09,053 INFO: POST https://10.164.15.201:9200/_bulk [status:200 request:0.253s]\n",
      "2023-12-15 14:33:09,469 INFO: POST https://10.164.15.201:9200/_bulk [status:200 request:0.253s]\n",
      "2023-12-15 14:33:09,905 INFO: POST https://10.164.15.201:9200/_bulk [status:200 request:0.260s]\n",
      "2023-12-15 14:33:10,309 INFO: POST https://10.164.15.201:9200/_bulk [status:200 request:0.248s]\n",
      "2023-12-15 14:33:10,740 INFO: POST https://10.164.15.201:9200/_bulk [status:200 request:0.261s]\n",
      "2023-12-15 14:33:11,157 INFO: POST https://10.164.15.201:9200/_bulk [status:200 request:0.252s]\n",
      "2023-12-15 14:33:11,566 INFO: POST https://10.164.15.201:9200/_bulk [status:200 request:0.247s]\n",
      "2023-12-15 14:33:12,012 INFO: POST https://10.164.15.201:9200/_bulk [status:200 request:0.268s]\n",
      "2023-12-15 14:33:12,417 INFO: POST https://10.164.15.201:9200/_bulk [status:200 request:0.249s]\n",
      "2023-12-15 14:33:12,844 INFO: POST https://10.164.15.201:9200/_bulk [status:200 request:0.266s]\n",
      "2023-12-15 14:33:13,257 INFO: POST https://10.164.15.201:9200/_bulk [status:200 request:0.260s]\n",
      "2023-12-15 14:33:13,675 INFO: POST https://10.164.15.201:9200/_bulk [status:200 request:0.257s]\n",
      "2023-12-15 14:33:14,090 INFO: POST https://10.164.15.201:9200/_bulk [status:200 request:0.254s]\n",
      "2023-12-15 14:33:14,504 INFO: POST https://10.164.15.201:9200/_bulk [status:200 request:0.252s]\n",
      "2023-12-15 14:33:14,918 INFO: POST https://10.164.15.201:9200/_bulk [status:200 request:0.246s]\n",
      "2023-12-15 14:33:15,367 INFO: POST https://10.164.15.201:9200/_bulk [status:200 request:0.261s]\n",
      "2023-12-15 14:33:15,788 INFO: POST https://10.164.15.201:9200/_bulk [status:200 request:0.257s]\n",
      "2023-12-15 14:33:16,209 INFO: POST https://10.164.15.201:9200/_bulk [status:200 request:0.261s]\n",
      "2023-12-15 14:33:16,797 INFO: POST https://10.164.15.201:9200/_bulk [status:200 request:0.345s]\n",
      "2023-12-15 14:33:17,209 INFO: POST https://10.164.15.201:9200/_bulk [status:200 request:0.255s]\n",
      "2023-12-15 14:33:17,661 INFO: POST https://10.164.15.201:9200/_bulk [status:200 request:0.250s]\n",
      "2023-12-15 14:33:18,130 INFO: POST https://10.164.15.201:9200/_bulk [status:200 request:0.273s]\n",
      "2023-12-15 14:33:18,627 INFO: POST https://10.164.15.201:9200/_bulk [status:200 request:0.264s]\n",
      "2023-12-15 14:33:19,077 INFO: POST https://10.164.15.201:9200/_bulk [status:200 request:0.277s]\n",
      "2023-12-15 14:33:19,501 INFO: POST https://10.164.15.201:9200/_bulk [status:200 request:0.254s]\n",
      "2023-12-15 14:33:19,911 INFO: POST https://10.164.15.201:9200/_bulk [status:200 request:0.252s]\n",
      "2023-12-15 14:33:20,333 INFO: POST https://10.164.15.201:9200/_bulk [status:200 request:0.256s]\n",
      "2023-12-15 14:33:20,752 INFO: POST https://10.164.15.201:9200/_bulk [status:200 request:0.260s]\n",
      "2023-12-15 14:33:21,187 INFO: POST https://10.164.15.201:9200/_bulk [status:200 request:0.274s]\n",
      "2023-12-15 14:33:21,627 INFO: POST https://10.164.15.201:9200/_bulk [status:200 request:0.277s]\n",
      "2023-12-15 14:33:22,129 INFO: POST https://10.164.15.201:9200/_bulk [status:200 request:0.263s]\n",
      "2023-12-15 14:33:22,544 INFO: POST https://10.164.15.201:9200/_bulk [status:200 request:0.253s]\n",
      "2023-12-15 14:33:22,957 INFO: POST https://10.164.15.201:9200/_bulk [status:200 request:0.255s]\n",
      "2023-12-15 14:33:23,396 INFO: POST https://10.164.15.201:9200/_bulk [status:200 request:0.254s]\n",
      "2023-12-15 14:33:23,815 INFO: POST https://10.164.15.201:9200/_bulk [status:200 request:0.254s]\n",
      "2023-12-15 14:33:24,260 INFO: POST https://10.164.15.201:9200/_bulk [status:200 request:0.272s]\n",
      "2023-12-15 14:33:24,697 INFO: POST https://10.164.15.201:9200/_bulk [status:200 request:0.267s]\n",
      "2023-12-15 14:33:25,138 INFO: POST https://10.164.15.201:9200/_bulk [status:200 request:0.273s]\n",
      "2023-12-15 14:33:25,565 INFO: POST https://10.164.15.201:9200/_bulk [status:200 request:0.250s]\n",
      "2023-12-15 14:33:25,982 INFO: POST https://10.164.15.201:9200/_bulk [status:200 request:0.251s]\n",
      "2023-12-15 14:33:26,390 INFO: POST https://10.164.15.201:9200/_bulk [status:200 request:0.244s]\n",
      "2023-12-15 14:33:26,799 INFO: POST https://10.164.15.201:9200/_bulk [status:200 request:0.245s]\n",
      "2023-12-15 14:33:26,933 INFO: POST https://10.164.15.201:9200/_bulk [status:200 request:0.078s]\n"
     ]
    },
    {
     "data": {
      "text/plain": [
       "(112650, [])"
      ]
     },
     "execution_count": 14,
     "metadata": {},
     "output_type": "execute_result"
    }
   ],
   "source": [
    "# Bulk insertion.\n",
    "bulk(client, actions)"
   ]
  },
  {
   "cell_type": "markdown",
   "id": "66bb6490",
   "metadata": {},
   "source": [
    "## Test that we can retrieve embeddings with Similarity Search"
   ]
  },
  {
   "cell_type": "code",
   "execution_count": 15,
   "id": "ca7049ef",
   "metadata": {},
   "outputs": [
    {
     "name": "stdout",
     "output_type": "stream",
     "text": [
      "2023-12-15 14:33:36,955 WARNING: POST https://10.164.15.201:9200/pydata_products_index/_search [status:N/A request:10.011s]\n",
      "Traceback (most recent call last):\n",
      "  File \"/srv/hops/anaconda/envs/theenv/lib/python3.10/site-packages/urllib3/connectionpool.py\", line 467, in _make_request\n",
      "    six.raise_from(e, None)\n",
      "  File \"<string>\", line 3, in raise_from\n",
      "  File \"/srv/hops/anaconda/envs/theenv/lib/python3.10/site-packages/urllib3/connectionpool.py\", line 462, in _make_request\n",
      "    httplib_response = conn.getresponse()\n",
      "  File \"/srv/hops/anaconda/envs/theenv/lib/python3.10/http/client.py\", line 1375, in getresponse\n",
      "    response.begin()\n",
      "  File \"/srv/hops/anaconda/envs/theenv/lib/python3.10/http/client.py\", line 318, in begin\n",
      "    version, status, reason = self._read_status()\n",
      "  File \"/srv/hops/anaconda/envs/theenv/lib/python3.10/http/client.py\", line 279, in _read_status\n",
      "    line = str(self.fp.readline(_MAXLINE + 1), \"iso-8859-1\")\n",
      "  File \"/srv/hops/anaconda/envs/theenv/lib/python3.10/socket.py\", line 705, in readinto\n",
      "    return self._sock.recv_into(b)\n",
      "  File \"/srv/hops/anaconda/envs/theenv/lib/python3.10/ssl.py\", line 1274, in recv_into\n",
      "    return self.read(nbytes, buffer)\n",
      "  File \"/srv/hops/anaconda/envs/theenv/lib/python3.10/ssl.py\", line 1130, in read\n",
      "    return self._sslobj.read(len, buffer)\n",
      "TimeoutError: The read operation timed out\n",
      "\n",
      "During handling of the above exception, another exception occurred:\n",
      "\n",
      "Traceback (most recent call last):\n",
      "  File \"/srv/hops/anaconda/envs/theenv/lib/python3.10/site-packages/opensearchpy/connection/http_urllib3.py\", line 249, in perform_request\n",
      "    response = self.pool.urlopen(\n",
      "  File \"/srv/hops/anaconda/envs/theenv/lib/python3.10/site-packages/urllib3/connectionpool.py\", line 799, in urlopen\n",
      "    retries = retries.increment(\n",
      "  File \"/srv/hops/anaconda/envs/theenv/lib/python3.10/site-packages/urllib3/util/retry.py\", line 525, in increment\n",
      "    raise six.reraise(type(error), error, _stacktrace)\n",
      "  File \"/srv/hops/anaconda/envs/theenv/lib/python3.10/site-packages/urllib3/packages/six.py\", line 770, in reraise\n",
      "    raise value\n",
      "  File \"/srv/hops/anaconda/envs/theenv/lib/python3.10/site-packages/urllib3/connectionpool.py\", line 715, in urlopen\n",
      "    httplib_response = self._make_request(\n",
      "  File \"/srv/hops/anaconda/envs/theenv/lib/python3.10/site-packages/urllib3/connectionpool.py\", line 469, in _make_request\n",
      "    self._raise_timeout(err=e, url=url, timeout_value=read_timeout)\n",
      "  File \"/srv/hops/anaconda/envs/theenv/lib/python3.10/site-packages/urllib3/connectionpool.py\", line 358, in _raise_timeout\n",
      "    raise ReadTimeoutError(\n",
      "urllib3.exceptions.ReadTimeoutError: HTTPSConnectionPool(host='10.164.15.201', port=9200): Read timed out. (read timeout=10)\n"
     ]
    },
    {
     "ename": "ConnectionTimeout",
     "evalue": "ConnectionTimeout caused by - ReadTimeoutError(HTTPSConnectionPool(host='10.164.15.201', port=9200): Read timed out. (read timeout=10))",
     "output_type": "error",
     "traceback": [
      "\u001b[0;31m---------------------------------------------------------------------------\u001b[0m",
      "\u001b[0;31mTimeoutError\u001b[0m                              Traceback (most recent call last)",
      "\u001b[0;32m/srv/hops/anaconda/envs/theenv/lib/python3.10/site-packages/urllib3/connectionpool.py\u001b[0m in \u001b[0;36m_make_request\u001b[0;34m(self, conn, method, url, timeout, chunked, **httplib_request_kw)\u001b[0m\n\u001b[1;32m    466\u001b[0m                     \u001b[0;31m# Otherwise it looks like a bug in the code.\u001b[0m\u001b[0;34m\u001b[0m\u001b[0;34m\u001b[0m\u001b[0m\n\u001b[0;32m--> 467\u001b[0;31m                     \u001b[0msix\u001b[0m\u001b[0;34m.\u001b[0m\u001b[0mraise_from\u001b[0m\u001b[0;34m(\u001b[0m\u001b[0me\u001b[0m\u001b[0;34m,\u001b[0m \u001b[0;32mNone\u001b[0m\u001b[0;34m)\u001b[0m\u001b[0;34m\u001b[0m\u001b[0;34m\u001b[0m\u001b[0m\n\u001b[0m\u001b[1;32m    468\u001b[0m         \u001b[0;32mexcept\u001b[0m \u001b[0;34m(\u001b[0m\u001b[0mSocketTimeout\u001b[0m\u001b[0;34m,\u001b[0m \u001b[0mBaseSSLError\u001b[0m\u001b[0;34m,\u001b[0m \u001b[0mSocketError\u001b[0m\u001b[0;34m)\u001b[0m \u001b[0;32mas\u001b[0m \u001b[0me\u001b[0m\u001b[0;34m:\u001b[0m\u001b[0;34m\u001b[0m\u001b[0;34m\u001b[0m\u001b[0m\n",
      "\u001b[0;32m/srv/hops/anaconda/envs/theenv/lib/python3.10/site-packages/urllib3/packages/six.py\u001b[0m in \u001b[0;36mraise_from\u001b[0;34m(value, from_value)\u001b[0m\n",
      "\u001b[0;32m/srv/hops/anaconda/envs/theenv/lib/python3.10/site-packages/urllib3/connectionpool.py\u001b[0m in \u001b[0;36m_make_request\u001b[0;34m(self, conn, method, url, timeout, chunked, **httplib_request_kw)\u001b[0m\n\u001b[1;32m    461\u001b[0m                 \u001b[0;32mtry\u001b[0m\u001b[0;34m:\u001b[0m\u001b[0;34m\u001b[0m\u001b[0;34m\u001b[0m\u001b[0m\n\u001b[0;32m--> 462\u001b[0;31m                     \u001b[0mhttplib_response\u001b[0m \u001b[0;34m=\u001b[0m \u001b[0mconn\u001b[0m\u001b[0;34m.\u001b[0m\u001b[0mgetresponse\u001b[0m\u001b[0;34m(\u001b[0m\u001b[0;34m)\u001b[0m\u001b[0;34m\u001b[0m\u001b[0;34m\u001b[0m\u001b[0m\n\u001b[0m\u001b[1;32m    463\u001b[0m                 \u001b[0;32mexcept\u001b[0m \u001b[0mBaseException\u001b[0m \u001b[0;32mas\u001b[0m \u001b[0me\u001b[0m\u001b[0;34m:\u001b[0m\u001b[0;34m\u001b[0m\u001b[0;34m\u001b[0m\u001b[0m\n",
      "\u001b[0;32m/srv/hops/anaconda/envs/theenv/lib/python3.10/http/client.py\u001b[0m in \u001b[0;36mgetresponse\u001b[0;34m(self)\u001b[0m\n\u001b[1;32m   1374\u001b[0m             \u001b[0;32mtry\u001b[0m\u001b[0;34m:\u001b[0m\u001b[0;34m\u001b[0m\u001b[0;34m\u001b[0m\u001b[0m\n\u001b[0;32m-> 1375\u001b[0;31m                 \u001b[0mresponse\u001b[0m\u001b[0;34m.\u001b[0m\u001b[0mbegin\u001b[0m\u001b[0;34m(\u001b[0m\u001b[0;34m)\u001b[0m\u001b[0;34m\u001b[0m\u001b[0;34m\u001b[0m\u001b[0m\n\u001b[0m\u001b[1;32m   1376\u001b[0m             \u001b[0;32mexcept\u001b[0m \u001b[0mConnectionError\u001b[0m\u001b[0;34m:\u001b[0m\u001b[0;34m\u001b[0m\u001b[0;34m\u001b[0m\u001b[0m\n",
      "\u001b[0;32m/srv/hops/anaconda/envs/theenv/lib/python3.10/http/client.py\u001b[0m in \u001b[0;36mbegin\u001b[0;34m(self)\u001b[0m\n\u001b[1;32m    317\u001b[0m         \u001b[0;32mwhile\u001b[0m \u001b[0;32mTrue\u001b[0m\u001b[0;34m:\u001b[0m\u001b[0;34m\u001b[0m\u001b[0;34m\u001b[0m\u001b[0m\n\u001b[0;32m--> 318\u001b[0;31m             \u001b[0mversion\u001b[0m\u001b[0;34m,\u001b[0m \u001b[0mstatus\u001b[0m\u001b[0;34m,\u001b[0m \u001b[0mreason\u001b[0m \u001b[0;34m=\u001b[0m \u001b[0mself\u001b[0m\u001b[0;34m.\u001b[0m\u001b[0m_read_status\u001b[0m\u001b[0;34m(\u001b[0m\u001b[0;34m)\u001b[0m\u001b[0;34m\u001b[0m\u001b[0;34m\u001b[0m\u001b[0m\n\u001b[0m\u001b[1;32m    319\u001b[0m             \u001b[0;32mif\u001b[0m \u001b[0mstatus\u001b[0m \u001b[0;34m!=\u001b[0m \u001b[0mCONTINUE\u001b[0m\u001b[0;34m:\u001b[0m\u001b[0;34m\u001b[0m\u001b[0;34m\u001b[0m\u001b[0m\n",
      "\u001b[0;32m/srv/hops/anaconda/envs/theenv/lib/python3.10/http/client.py\u001b[0m in \u001b[0;36m_read_status\u001b[0;34m(self)\u001b[0m\n\u001b[1;32m    278\u001b[0m     \u001b[0;32mdef\u001b[0m \u001b[0m_read_status\u001b[0m\u001b[0;34m(\u001b[0m\u001b[0mself\u001b[0m\u001b[0;34m)\u001b[0m\u001b[0;34m:\u001b[0m\u001b[0;34m\u001b[0m\u001b[0;34m\u001b[0m\u001b[0m\n\u001b[0;32m--> 279\u001b[0;31m         \u001b[0mline\u001b[0m \u001b[0;34m=\u001b[0m \u001b[0mstr\u001b[0m\u001b[0;34m(\u001b[0m\u001b[0mself\u001b[0m\u001b[0;34m.\u001b[0m\u001b[0mfp\u001b[0m\u001b[0;34m.\u001b[0m\u001b[0mreadline\u001b[0m\u001b[0;34m(\u001b[0m\u001b[0m_MAXLINE\u001b[0m \u001b[0;34m+\u001b[0m \u001b[0;36m1\u001b[0m\u001b[0;34m)\u001b[0m\u001b[0;34m,\u001b[0m \u001b[0;34m\"iso-8859-1\"\u001b[0m\u001b[0;34m)\u001b[0m\u001b[0;34m\u001b[0m\u001b[0;34m\u001b[0m\u001b[0m\n\u001b[0m\u001b[1;32m    280\u001b[0m         \u001b[0;32mif\u001b[0m \u001b[0mlen\u001b[0m\u001b[0;34m(\u001b[0m\u001b[0mline\u001b[0m\u001b[0;34m)\u001b[0m \u001b[0;34m>\u001b[0m \u001b[0m_MAXLINE\u001b[0m\u001b[0;34m:\u001b[0m\u001b[0;34m\u001b[0m\u001b[0;34m\u001b[0m\u001b[0m\n",
      "\u001b[0;32m/srv/hops/anaconda/envs/theenv/lib/python3.10/socket.py\u001b[0m in \u001b[0;36mreadinto\u001b[0;34m(self, b)\u001b[0m\n\u001b[1;32m    704\u001b[0m             \u001b[0;32mtry\u001b[0m\u001b[0;34m:\u001b[0m\u001b[0;34m\u001b[0m\u001b[0;34m\u001b[0m\u001b[0m\n\u001b[0;32m--> 705\u001b[0;31m                 \u001b[0;32mreturn\u001b[0m \u001b[0mself\u001b[0m\u001b[0;34m.\u001b[0m\u001b[0m_sock\u001b[0m\u001b[0;34m.\u001b[0m\u001b[0mrecv_into\u001b[0m\u001b[0;34m(\u001b[0m\u001b[0mb\u001b[0m\u001b[0;34m)\u001b[0m\u001b[0;34m\u001b[0m\u001b[0;34m\u001b[0m\u001b[0m\n\u001b[0m\u001b[1;32m    706\u001b[0m             \u001b[0;32mexcept\u001b[0m \u001b[0mtimeout\u001b[0m\u001b[0;34m:\u001b[0m\u001b[0;34m\u001b[0m\u001b[0;34m\u001b[0m\u001b[0m\n",
      "\u001b[0;32m/srv/hops/anaconda/envs/theenv/lib/python3.10/ssl.py\u001b[0m in \u001b[0;36mrecv_into\u001b[0;34m(self, buffer, nbytes, flags)\u001b[0m\n\u001b[1;32m   1273\u001b[0m                   self.__class__)\n\u001b[0;32m-> 1274\u001b[0;31m             \u001b[0;32mreturn\u001b[0m \u001b[0mself\u001b[0m\u001b[0;34m.\u001b[0m\u001b[0mread\u001b[0m\u001b[0;34m(\u001b[0m\u001b[0mnbytes\u001b[0m\u001b[0;34m,\u001b[0m \u001b[0mbuffer\u001b[0m\u001b[0;34m)\u001b[0m\u001b[0;34m\u001b[0m\u001b[0;34m\u001b[0m\u001b[0m\n\u001b[0m\u001b[1;32m   1275\u001b[0m         \u001b[0;32melse\u001b[0m\u001b[0;34m:\u001b[0m\u001b[0;34m\u001b[0m\u001b[0;34m\u001b[0m\u001b[0m\n",
      "\u001b[0;32m/srv/hops/anaconda/envs/theenv/lib/python3.10/ssl.py\u001b[0m in \u001b[0;36mread\u001b[0;34m(self, len, buffer)\u001b[0m\n\u001b[1;32m   1129\u001b[0m             \u001b[0;32mif\u001b[0m \u001b[0mbuffer\u001b[0m \u001b[0;32mis\u001b[0m \u001b[0;32mnot\u001b[0m \u001b[0;32mNone\u001b[0m\u001b[0;34m:\u001b[0m\u001b[0;34m\u001b[0m\u001b[0;34m\u001b[0m\u001b[0m\n\u001b[0;32m-> 1130\u001b[0;31m                 \u001b[0;32mreturn\u001b[0m \u001b[0mself\u001b[0m\u001b[0;34m.\u001b[0m\u001b[0m_sslobj\u001b[0m\u001b[0;34m.\u001b[0m\u001b[0mread\u001b[0m\u001b[0;34m(\u001b[0m\u001b[0mlen\u001b[0m\u001b[0;34m,\u001b[0m \u001b[0mbuffer\u001b[0m\u001b[0;34m)\u001b[0m\u001b[0;34m\u001b[0m\u001b[0;34m\u001b[0m\u001b[0m\n\u001b[0m\u001b[1;32m   1131\u001b[0m             \u001b[0;32melse\u001b[0m\u001b[0;34m:\u001b[0m\u001b[0;34m\u001b[0m\u001b[0;34m\u001b[0m\u001b[0m\n",
      "\u001b[0;31mTimeoutError\u001b[0m: The read operation timed out",
      "\nDuring handling of the above exception, another exception occurred:\n",
      "\u001b[0;31mReadTimeoutError\u001b[0m                          Traceback (most recent call last)",
      "\u001b[0;32m/srv/hops/anaconda/envs/theenv/lib/python3.10/site-packages/opensearchpy/connection/http_urllib3.py\u001b[0m in \u001b[0;36mperform_request\u001b[0;34m(self, method, url, params, body, timeout, ignore, headers)\u001b[0m\n\u001b[1;32m    248\u001b[0m \u001b[0;34m\u001b[0m\u001b[0m\n\u001b[0;32m--> 249\u001b[0;31m             response = self.pool.urlopen(\n\u001b[0m\u001b[1;32m    250\u001b[0m                 \u001b[0mmethod\u001b[0m\u001b[0;34m,\u001b[0m \u001b[0murl\u001b[0m\u001b[0;34m,\u001b[0m \u001b[0mbody\u001b[0m\u001b[0;34m,\u001b[0m \u001b[0mretries\u001b[0m\u001b[0;34m=\u001b[0m\u001b[0mRetry\u001b[0m\u001b[0;34m(\u001b[0m\u001b[0;32mFalse\u001b[0m\u001b[0;34m)\u001b[0m\u001b[0;34m,\u001b[0m \u001b[0mheaders\u001b[0m\u001b[0;34m=\u001b[0m\u001b[0mrequest_headers\u001b[0m\u001b[0;34m,\u001b[0m \u001b[0;34m**\u001b[0m\u001b[0mkw\u001b[0m\u001b[0;34m\u001b[0m\u001b[0;34m\u001b[0m\u001b[0m\n",
      "\u001b[0;32m/srv/hops/anaconda/envs/theenv/lib/python3.10/site-packages/urllib3/connectionpool.py\u001b[0m in \u001b[0;36murlopen\u001b[0;34m(self, method, url, body, headers, retries, redirect, assert_same_host, timeout, pool_timeout, release_conn, chunked, body_pos, **response_kw)\u001b[0m\n\u001b[1;32m    798\u001b[0m \u001b[0;34m\u001b[0m\u001b[0m\n\u001b[0;32m--> 799\u001b[0;31m             retries = retries.increment(\n\u001b[0m\u001b[1;32m    800\u001b[0m                 \u001b[0mmethod\u001b[0m\u001b[0;34m,\u001b[0m \u001b[0murl\u001b[0m\u001b[0;34m,\u001b[0m \u001b[0merror\u001b[0m\u001b[0;34m=\u001b[0m\u001b[0me\u001b[0m\u001b[0;34m,\u001b[0m \u001b[0m_pool\u001b[0m\u001b[0;34m=\u001b[0m\u001b[0mself\u001b[0m\u001b[0;34m,\u001b[0m \u001b[0m_stacktrace\u001b[0m\u001b[0;34m=\u001b[0m\u001b[0msys\u001b[0m\u001b[0;34m.\u001b[0m\u001b[0mexc_info\u001b[0m\u001b[0;34m(\u001b[0m\u001b[0;34m)\u001b[0m\u001b[0;34m[\u001b[0m\u001b[0;36m2\u001b[0m\u001b[0;34m]\u001b[0m\u001b[0;34m\u001b[0m\u001b[0;34m\u001b[0m\u001b[0m\n",
      "\u001b[0;32m/srv/hops/anaconda/envs/theenv/lib/python3.10/site-packages/urllib3/util/retry.py\u001b[0m in \u001b[0;36mincrement\u001b[0;34m(self, method, url, response, error, _pool, _stacktrace)\u001b[0m\n\u001b[1;32m    524\u001b[0m             \u001b[0;31m# Disabled, indicate to re-raise the error.\u001b[0m\u001b[0;34m\u001b[0m\u001b[0;34m\u001b[0m\u001b[0m\n\u001b[0;32m--> 525\u001b[0;31m             \u001b[0;32mraise\u001b[0m \u001b[0msix\u001b[0m\u001b[0;34m.\u001b[0m\u001b[0mreraise\u001b[0m\u001b[0;34m(\u001b[0m\u001b[0mtype\u001b[0m\u001b[0;34m(\u001b[0m\u001b[0merror\u001b[0m\u001b[0;34m)\u001b[0m\u001b[0;34m,\u001b[0m \u001b[0merror\u001b[0m\u001b[0;34m,\u001b[0m \u001b[0m_stacktrace\u001b[0m\u001b[0;34m)\u001b[0m\u001b[0;34m\u001b[0m\u001b[0;34m\u001b[0m\u001b[0m\n\u001b[0m\u001b[1;32m    526\u001b[0m \u001b[0;34m\u001b[0m\u001b[0m\n",
      "\u001b[0;32m/srv/hops/anaconda/envs/theenv/lib/python3.10/site-packages/urllib3/packages/six.py\u001b[0m in \u001b[0;36mreraise\u001b[0;34m(tp, value, tb)\u001b[0m\n\u001b[1;32m    769\u001b[0m                 \u001b[0;32mraise\u001b[0m \u001b[0mvalue\u001b[0m\u001b[0;34m.\u001b[0m\u001b[0mwith_traceback\u001b[0m\u001b[0;34m(\u001b[0m\u001b[0mtb\u001b[0m\u001b[0;34m)\u001b[0m\u001b[0;34m\u001b[0m\u001b[0;34m\u001b[0m\u001b[0m\n\u001b[0;32m--> 770\u001b[0;31m             \u001b[0;32mraise\u001b[0m \u001b[0mvalue\u001b[0m\u001b[0;34m\u001b[0m\u001b[0;34m\u001b[0m\u001b[0m\n\u001b[0m\u001b[1;32m    771\u001b[0m         \u001b[0;32mfinally\u001b[0m\u001b[0;34m:\u001b[0m\u001b[0;34m\u001b[0m\u001b[0;34m\u001b[0m\u001b[0m\n",
      "\u001b[0;32m/srv/hops/anaconda/envs/theenv/lib/python3.10/site-packages/urllib3/connectionpool.py\u001b[0m in \u001b[0;36murlopen\u001b[0;34m(self, method, url, body, headers, retries, redirect, assert_same_host, timeout, pool_timeout, release_conn, chunked, body_pos, **response_kw)\u001b[0m\n\u001b[1;32m    714\u001b[0m             \u001b[0;31m# Make the request on the httplib connection object.\u001b[0m\u001b[0;34m\u001b[0m\u001b[0;34m\u001b[0m\u001b[0m\n\u001b[0;32m--> 715\u001b[0;31m             httplib_response = self._make_request(\n\u001b[0m\u001b[1;32m    716\u001b[0m                 \u001b[0mconn\u001b[0m\u001b[0;34m,\u001b[0m\u001b[0;34m\u001b[0m\u001b[0;34m\u001b[0m\u001b[0m\n",
      "\u001b[0;32m/srv/hops/anaconda/envs/theenv/lib/python3.10/site-packages/urllib3/connectionpool.py\u001b[0m in \u001b[0;36m_make_request\u001b[0;34m(self, conn, method, url, timeout, chunked, **httplib_request_kw)\u001b[0m\n\u001b[1;32m    468\u001b[0m         \u001b[0;32mexcept\u001b[0m \u001b[0;34m(\u001b[0m\u001b[0mSocketTimeout\u001b[0m\u001b[0;34m,\u001b[0m \u001b[0mBaseSSLError\u001b[0m\u001b[0;34m,\u001b[0m \u001b[0mSocketError\u001b[0m\u001b[0;34m)\u001b[0m \u001b[0;32mas\u001b[0m \u001b[0me\u001b[0m\u001b[0;34m:\u001b[0m\u001b[0;34m\u001b[0m\u001b[0;34m\u001b[0m\u001b[0m\n\u001b[0;32m--> 469\u001b[0;31m             \u001b[0mself\u001b[0m\u001b[0;34m.\u001b[0m\u001b[0m_raise_timeout\u001b[0m\u001b[0;34m(\u001b[0m\u001b[0merr\u001b[0m\u001b[0;34m=\u001b[0m\u001b[0me\u001b[0m\u001b[0;34m,\u001b[0m \u001b[0murl\u001b[0m\u001b[0;34m=\u001b[0m\u001b[0murl\u001b[0m\u001b[0;34m,\u001b[0m \u001b[0mtimeout_value\u001b[0m\u001b[0;34m=\u001b[0m\u001b[0mread_timeout\u001b[0m\u001b[0;34m)\u001b[0m\u001b[0;34m\u001b[0m\u001b[0;34m\u001b[0m\u001b[0m\n\u001b[0m\u001b[1;32m    470\u001b[0m             \u001b[0;32mraise\u001b[0m\u001b[0;34m\u001b[0m\u001b[0;34m\u001b[0m\u001b[0m\n",
      "\u001b[0;32m/srv/hops/anaconda/envs/theenv/lib/python3.10/site-packages/urllib3/connectionpool.py\u001b[0m in \u001b[0;36m_raise_timeout\u001b[0;34m(self, err, url, timeout_value)\u001b[0m\n\u001b[1;32m    357\u001b[0m         \u001b[0;32mif\u001b[0m \u001b[0misinstance\u001b[0m\u001b[0;34m(\u001b[0m\u001b[0merr\u001b[0m\u001b[0;34m,\u001b[0m \u001b[0mSocketTimeout\u001b[0m\u001b[0;34m)\u001b[0m\u001b[0;34m:\u001b[0m\u001b[0;34m\u001b[0m\u001b[0;34m\u001b[0m\u001b[0m\n\u001b[0;32m--> 358\u001b[0;31m             raise ReadTimeoutError(\n\u001b[0m\u001b[1;32m    359\u001b[0m                 \u001b[0mself\u001b[0m\u001b[0;34m,\u001b[0m \u001b[0murl\u001b[0m\u001b[0;34m,\u001b[0m \u001b[0;34m\"Read timed out. (read timeout=%s)\"\u001b[0m \u001b[0;34m%\u001b[0m \u001b[0mtimeout_value\u001b[0m\u001b[0;34m\u001b[0m\u001b[0;34m\u001b[0m\u001b[0m\n",
      "\u001b[0;31mReadTimeoutError\u001b[0m: HTTPSConnectionPool(host='10.164.15.201', port=9200): Read timed out. (read timeout=10)",
      "\nDuring handling of the above exception, another exception occurred:\n",
      "\u001b[0;31mConnectionTimeout\u001b[0m                         Traceback (most recent call last)",
      "\u001b[0;32m<ipython-input-15-0f882ca03466>\u001b[0m in \u001b[0;36m<module>\u001b[0;34m\u001b[0m\n\u001b[1;32m     16\u001b[0m }\n\u001b[1;32m     17\u001b[0m \u001b[0;34m\u001b[0m\u001b[0m\n\u001b[0;32m---> 18\u001b[0;31m response = client.search(\n\u001b[0m\u001b[1;32m     19\u001b[0m     \u001b[0mbody\u001b[0m \u001b[0;34m=\u001b[0m \u001b[0mquery\u001b[0m\u001b[0;34m,\u001b[0m\u001b[0;34m\u001b[0m\u001b[0;34m\u001b[0m\u001b[0m\n\u001b[1;32m     20\u001b[0m     \u001b[0mindex\u001b[0m \u001b[0;34m=\u001b[0m \u001b[0mindex_name\u001b[0m\u001b[0;34m\u001b[0m\u001b[0;34m\u001b[0m\u001b[0m\n",
      "\u001b[0;32m/srv/hops/anaconda/envs/theenv/lib/python3.10/site-packages/opensearchpy/client/utils.py\u001b[0m in \u001b[0;36m_wrapped\u001b[0;34m(*args, **kwargs)\u001b[0m\n\u001b[1;32m    175\u001b[0m                 \u001b[0;32mif\u001b[0m \u001b[0mp\u001b[0m \u001b[0;32min\u001b[0m \u001b[0mkwargs\u001b[0m\u001b[0;34m:\u001b[0m\u001b[0;34m\u001b[0m\u001b[0;34m\u001b[0m\u001b[0m\n\u001b[1;32m    176\u001b[0m                     \u001b[0mparams\u001b[0m\u001b[0;34m[\u001b[0m\u001b[0mp\u001b[0m\u001b[0;34m]\u001b[0m \u001b[0;34m=\u001b[0m \u001b[0mkwargs\u001b[0m\u001b[0;34m.\u001b[0m\u001b[0mpop\u001b[0m\u001b[0;34m(\u001b[0m\u001b[0mp\u001b[0m\u001b[0;34m)\u001b[0m\u001b[0;34m\u001b[0m\u001b[0;34m\u001b[0m\u001b[0m\n\u001b[0;32m--> 177\u001b[0;31m             \u001b[0;32mreturn\u001b[0m \u001b[0mfunc\u001b[0m\u001b[0;34m(\u001b[0m\u001b[0;34m*\u001b[0m\u001b[0margs\u001b[0m\u001b[0;34m,\u001b[0m \u001b[0mparams\u001b[0m\u001b[0;34m=\u001b[0m\u001b[0mparams\u001b[0m\u001b[0;34m,\u001b[0m \u001b[0mheaders\u001b[0m\u001b[0;34m=\u001b[0m\u001b[0mheaders\u001b[0m\u001b[0;34m,\u001b[0m \u001b[0;34m**\u001b[0m\u001b[0mkwargs\u001b[0m\u001b[0;34m)\u001b[0m\u001b[0;34m\u001b[0m\u001b[0;34m\u001b[0m\u001b[0m\n\u001b[0m\u001b[1;32m    178\u001b[0m \u001b[0;34m\u001b[0m\u001b[0m\n\u001b[1;32m    179\u001b[0m         \u001b[0;32mreturn\u001b[0m \u001b[0m_wrapped\u001b[0m\u001b[0;34m\u001b[0m\u001b[0;34m\u001b[0m\u001b[0m\n",
      "\u001b[0;32m/srv/hops/anaconda/envs/theenv/lib/python3.10/site-packages/opensearchpy/client/__init__.py\u001b[0m in \u001b[0;36msearch\u001b[0;34m(self, body, index, doc_type, params, headers)\u001b[0m\n\u001b[1;32m   1591\u001b[0m             \u001b[0mparams\u001b[0m\u001b[0;34m[\u001b[0m\u001b[0;34m\"from\"\u001b[0m\u001b[0;34m]\u001b[0m \u001b[0;34m=\u001b[0m \u001b[0mparams\u001b[0m\u001b[0;34m.\u001b[0m\u001b[0mpop\u001b[0m\u001b[0;34m(\u001b[0m\u001b[0;34m\"from_\"\u001b[0m\u001b[0;34m)\u001b[0m\u001b[0;34m\u001b[0m\u001b[0;34m\u001b[0m\u001b[0m\n\u001b[1;32m   1592\u001b[0m \u001b[0;34m\u001b[0m\u001b[0m\n\u001b[0;32m-> 1593\u001b[0;31m         return self.transport.perform_request(\n\u001b[0m\u001b[1;32m   1594\u001b[0m             \u001b[0;34m\"POST\"\u001b[0m\u001b[0;34m,\u001b[0m\u001b[0;34m\u001b[0m\u001b[0;34m\u001b[0m\u001b[0m\n\u001b[1;32m   1595\u001b[0m             \u001b[0m_make_path\u001b[0m\u001b[0;34m(\u001b[0m\u001b[0mindex\u001b[0m\u001b[0;34m,\u001b[0m \u001b[0mdoc_type\u001b[0m\u001b[0;34m,\u001b[0m \u001b[0;34m\"_search\"\u001b[0m\u001b[0;34m)\u001b[0m\u001b[0;34m,\u001b[0m\u001b[0;34m\u001b[0m\u001b[0;34m\u001b[0m\u001b[0m\n",
      "\u001b[0;32m/srv/hops/anaconda/envs/theenv/lib/python3.10/site-packages/opensearchpy/transport.py\u001b[0m in \u001b[0;36mperform_request\u001b[0;34m(self, method, url, headers, params, body)\u001b[0m\n\u001b[1;32m    405\u001b[0m                         \u001b[0;32mraise\u001b[0m \u001b[0me\u001b[0m\u001b[0;34m\u001b[0m\u001b[0;34m\u001b[0m\u001b[0m\n\u001b[1;32m    406\u001b[0m                 \u001b[0;32melse\u001b[0m\u001b[0;34m:\u001b[0m\u001b[0;34m\u001b[0m\u001b[0;34m\u001b[0m\u001b[0m\n\u001b[0;32m--> 407\u001b[0;31m                     \u001b[0;32mraise\u001b[0m \u001b[0me\u001b[0m\u001b[0;34m\u001b[0m\u001b[0;34m\u001b[0m\u001b[0m\n\u001b[0m\u001b[1;32m    408\u001b[0m \u001b[0;34m\u001b[0m\u001b[0m\n\u001b[1;32m    409\u001b[0m             \u001b[0;32melse\u001b[0m\u001b[0;34m:\u001b[0m\u001b[0;34m\u001b[0m\u001b[0;34m\u001b[0m\u001b[0m\n",
      "\u001b[0;32m/srv/hops/anaconda/envs/theenv/lib/python3.10/site-packages/opensearchpy/transport.py\u001b[0m in \u001b[0;36mperform_request\u001b[0;34m(self, method, url, headers, params, body)\u001b[0m\n\u001b[1;32m    366\u001b[0m \u001b[0;34m\u001b[0m\u001b[0m\n\u001b[1;32m    367\u001b[0m             \u001b[0;32mtry\u001b[0m\u001b[0;34m:\u001b[0m\u001b[0;34m\u001b[0m\u001b[0;34m\u001b[0m\u001b[0m\n\u001b[0;32m--> 368\u001b[0;31m                 status, headers_response, data = connection.perform_request(\n\u001b[0m\u001b[1;32m    369\u001b[0m                     \u001b[0mmethod\u001b[0m\u001b[0;34m,\u001b[0m\u001b[0;34m\u001b[0m\u001b[0;34m\u001b[0m\u001b[0m\n\u001b[1;32m    370\u001b[0m                     \u001b[0murl\u001b[0m\u001b[0;34m,\u001b[0m\u001b[0;34m\u001b[0m\u001b[0;34m\u001b[0m\u001b[0m\n",
      "\u001b[0;32m/srv/hops/anaconda/envs/theenv/lib/python3.10/site-packages/opensearchpy/connection/http_urllib3.py\u001b[0m in \u001b[0;36mperform_request\u001b[0;34m(self, method, url, params, body, timeout, ignore, headers)\u001b[0m\n\u001b[1;32m    261\u001b[0m                 \u001b[0;32mraise\u001b[0m \u001b[0mSSLError\u001b[0m\u001b[0;34m(\u001b[0m\u001b[0;34m\"N/A\"\u001b[0m\u001b[0;34m,\u001b[0m \u001b[0mstr\u001b[0m\u001b[0;34m(\u001b[0m\u001b[0me\u001b[0m\u001b[0;34m)\u001b[0m\u001b[0;34m,\u001b[0m \u001b[0me\u001b[0m\u001b[0;34m)\u001b[0m\u001b[0;34m\u001b[0m\u001b[0;34m\u001b[0m\u001b[0m\n\u001b[1;32m    262\u001b[0m             \u001b[0;32mif\u001b[0m \u001b[0misinstance\u001b[0m\u001b[0;34m(\u001b[0m\u001b[0me\u001b[0m\u001b[0;34m,\u001b[0m \u001b[0mReadTimeoutError\u001b[0m\u001b[0;34m)\u001b[0m\u001b[0;34m:\u001b[0m\u001b[0;34m\u001b[0m\u001b[0;34m\u001b[0m\u001b[0m\n\u001b[0;32m--> 263\u001b[0;31m                 \u001b[0;32mraise\u001b[0m \u001b[0mConnectionTimeout\u001b[0m\u001b[0;34m(\u001b[0m\u001b[0;34m\"TIMEOUT\"\u001b[0m\u001b[0;34m,\u001b[0m \u001b[0mstr\u001b[0m\u001b[0;34m(\u001b[0m\u001b[0me\u001b[0m\u001b[0;34m)\u001b[0m\u001b[0;34m,\u001b[0m \u001b[0me\u001b[0m\u001b[0;34m)\u001b[0m\u001b[0;34m\u001b[0m\u001b[0;34m\u001b[0m\u001b[0m\n\u001b[0m\u001b[1;32m    264\u001b[0m             \u001b[0;32mraise\u001b[0m \u001b[0mConnectionError\u001b[0m\u001b[0;34m(\u001b[0m\u001b[0;34m\"N/A\"\u001b[0m\u001b[0;34m,\u001b[0m \u001b[0mstr\u001b[0m\u001b[0;34m(\u001b[0m\u001b[0me\u001b[0m\u001b[0;34m)\u001b[0m\u001b[0;34m,\u001b[0m \u001b[0me\u001b[0m\u001b[0;34m)\u001b[0m\u001b[0;34m\u001b[0m\u001b[0;34m\u001b[0m\u001b[0m\n\u001b[1;32m    265\u001b[0m \u001b[0;34m\u001b[0m\u001b[0m\n",
      "\u001b[0;31mConnectionTimeout\u001b[0m: ConnectionTimeout caused by - ReadTimeoutError(HTTPSConnectionPool(host='10.164.15.201', port=9200): Read timed out. (read timeout=10))"
     ]
    }
   ],
   "source": [
    "import pprint\n",
    "import numpy as np\n",
    "\n",
    "embedding = np.random.rand(emb_dim)\n",
    "\n",
    "query = {\n",
    "  \"size\": 10,\n",
    "  \"query\": {\n",
    "    \"knn\": {\n",
    "      \"my_vector1\": {\n",
    "        \"vector\": embedding,\n",
    "        \"k\": 10\n",
    "      }\n",
    "    }\n",
    "  }\n",
    "}\n",
    "\n",
    "response = client.search(\n",
    "    body = query,\n",
    "    index = index_name\n",
    ")\n",
    "\n",
    "pprint.pprint(response)"
   ]
  }
 ],
 "metadata": {
  "kernelspec": {
   "display_name": "Python 3",
   "language": "python",
   "name": "python3"
  },
  "language_info": {
   "codemirror_mode": {
    "name": "ipython",
    "version": 3
   },
   "file_extension": ".py",
   "mimetype": "text/x-python",
   "name": "python",
   "nbconvert_exporter": "python",
   "pygments_lexer": "ipython3",
   "version": "3.10.11"
  }
 },
 "nbformat": 4,
 "nbformat_minor": 5
}
