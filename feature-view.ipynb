{
 "cells": [
  {
   "cell_type": "code",
   "execution_count": 1,
   "id": "1202e265",
   "metadata": {},
   "outputs": [
    {
     "name": "stdout",
     "output_type": "stream",
     "text": [
      "2023-12-15 14:39:00,149 INFO: Note: NumExpr detected 16 cores but \"NUMEXPR_MAX_THREADS\" not set, so enforcing safe limit of 8.\n",
      "2023-12-15 14:39:00,150 INFO: NumExpr defaulting to 8 threads.\n",
      "Connected. Call `.close()` to terminate connection gracefully.\n",
      "\n",
      "Logged in to project, explore it here https://34.34.12.93/p/119\n",
      "Connected. Call `.close()` to terminate connection gracefully.\n"
     ]
    }
   ],
   "source": [
    "import hopsworks\n",
    "\n",
    "proj = hopsworks.login() \n",
    "fs = proj.get_feature_store()"
   ]
  },
  {
   "cell_type": "code",
   "execution_count": 4,
   "id": "b7106349",
   "metadata": {},
   "outputs": [],
   "source": [
    "order_item_fg = fs.get_feature_group(\"order_item_fg\", version=1)\n",
    "product_fg = fs.get_feature_group(\"product_fg\", version=1)"
   ]
  },
  {
   "cell_type": "code",
   "execution_count": 5,
   "id": "0d6a42b3",
   "metadata": {},
   "outputs": [
    {
     "name": "stdout",
     "output_type": "stream",
     "text": [
      "Feature view created successfully, explore it at \n",
      "https://34.34.12.93/p/119/fs/67/fv/products/version/1\n"
     ]
    }
   ],
   "source": [
    "feature_view = fs.get_or_create_feature_view(\n",
    "    name=\"products\",\n",
    "    version=1,\n",
    "    description=\"Product features\",\n",
    "    query=product_fg.select_all()\n",
    ")"
   ]
  },
  {
   "cell_type": "code",
   "execution_count": 6,
   "id": "75914930",
   "metadata": {},
   "outputs": [
    {
     "name": "stdout",
     "output_type": "stream",
     "text": [
      "Feature view created successfully, explore it at \n",
      "https://34.34.12.93/p/119/fs/67/fv/product_orders/version/1\n"
     ]
    }
   ],
   "source": [
    "query = order_item_fg.select_all().join(product_fg.select_all(), on=\"product_id\")\n",
    "\n",
    "feature_view = fs.get_or_create_feature_view(\n",
    "    name=\"product_orders\",\n",
    "    version=1,\n",
    "    description=\"Training data for a products and orders model\",\n",
    "    labels=[\"price\"],\n",
    "    query=query\n",
    ")"
   ]
  },
  {
   "cell_type": "code",
   "execution_count": null,
   "id": "254f4b99",
   "metadata": {},
   "outputs": [],
   "source": []
  }
 ],
 "metadata": {
  "kernelspec": {
   "display_name": "Python 3",
   "language": "python",
   "name": "python3"
  },
  "language_info": {
   "codemirror_mode": {
    "name": "ipython",
    "version": 3
   },
   "file_extension": ".py",
   "mimetype": "text/x-python",
   "name": "python",
   "nbconvert_exporter": "python",
   "pygments_lexer": "ipython3",
   "version": "3.10.11"
  }
 },
 "nbformat": 4,
 "nbformat_minor": 5
}
