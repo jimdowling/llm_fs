{
 "cells": [
  {
   "cell_type": "code",
   "execution_count": 1,
   "id": "16bbdb29",
   "metadata": {},
   "outputs": [
    {
     "name": "stdout",
     "output_type": "stream",
     "text": [
      "2023-12-18 17:40:26,369 INFO: Note: NumExpr detected 16 cores but \"NUMEXPR_MAX_THREADS\" not set, so enforcing safe limit of 8.\n",
      "2023-12-18 17:40:26,371 INFO: NumExpr defaulting to 8 threads.\n",
      "Connected. Call `.close()` to terminate connection gracefully.\n",
      "\n",
      "Logged in to project, explore it here https://34.147.72.120/p/120\n",
      "Connected. Call `.close()` to terminate connection gracefully.\n"
     ]
    }
   ],
   "source": [
    "import hopsworks\n",
    "\n",
    "proj = hopsworks.login() \n",
    "fs = proj.get_feature_store()"
   ]
  },
  {
   "cell_type": "code",
   "execution_count": 2,
   "id": "0bff4960",
   "metadata": {},
   "outputs": [],
   "source": [
    "order_item_fg = fs.get_feature_group(\"order_item_fg\", version=1)\n",
    "product_fg = fs.get_feature_group(\"product_fg\", version=1)"
   ]
  },
  {
   "cell_type": "code",
   "execution_count": 3,
   "id": "b7a4071f",
   "metadata": {},
   "outputs": [
    {
     "name": "stdout",
     "output_type": "stream",
     "text": [
      "Feature view created successfully, explore it at \n",
      "https://34.147.72.120/p/120/fs/68/fv/products/version/1\n"
     ]
    }
   ],
   "source": [
    "feature_view = fs.get_or_create_feature_view(\n",
    "    name=\"products\",\n",
    "    version=1,\n",
    "    description=\"Product features\",\n",
    "    query=product_fg.select_all()\n",
    ")"
   ]
  },
  {
   "cell_type": "code",
   "execution_count": 4,
   "id": "19847ef2",
   "metadata": {},
   "outputs": [
    {
     "name": "stdout",
     "output_type": "stream",
     "text": [
      "Feature view created successfully, explore it at \n",
      "https://34.147.72.120/p/120/fs/68/fv/product_orders/version/1\n"
     ]
    }
   ],
   "source": [
    "query = order_item_fg.select_all().join(product_fg.select_all(), on=\"product_id\")\n",
    "\n",
    "feature_view = fs.get_or_create_feature_view(\n",
    "    name=\"product_orders\",\n",
    "    version=1,\n",
    "    description=\"Training data for a products and orders model\",\n",
    "    labels=[\"price\"],\n",
    "    query=query\n",
    ")"
   ]
  },
  {
   "cell_type": "code",
   "execution_count": null,
   "id": "acda4479",
   "metadata": {},
   "outputs": [],
   "source": []
  }
 ],
 "metadata": {
  "kernelspec": {
   "display_name": "Python 3",
   "language": "python",
   "name": "python3"
  },
  "language_info": {
   "codemirror_mode": {
    "name": "ipython",
    "version": 3
   },
   "file_extension": ".py",
   "mimetype": "text/x-python",
   "name": "python",
   "nbconvert_exporter": "python",
   "pygments_lexer": "ipython3",
   "version": "3.10.11"
  }
 },
 "nbformat": 4,
 "nbformat_minor": 5
}
